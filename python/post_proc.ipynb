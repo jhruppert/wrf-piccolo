{
 "cells": [
  {
   "cell_type": "markdown",
   "metadata": {},
   "source": [
    "Script to post-process high-resolution WRF model output.\n",
    "\n",
    "Major tasks include computing the following for selected variables:\n",
    "  1. domain-averages to produce time series\n",
    "  2. vertical integrals\n",
    "  3. pressure-level vertical interpolation\n",
    "\n",
    "James Ruppert  \n",
    "25 Nov 2024"
   ]
  },
  {
   "cell_type": "code",
   "execution_count": 1,
   "metadata": {},
   "outputs": [],
   "source": [
    "from netCDF4 import Dataset\n",
    "import numpy as np\n",
    "from wrf import getvar, ALL_TIMES#, vinterp\n",
    "import xarray as xr\n",
    "from read_wrf_piccolo import *\n",
    "from post_proc_functions import *\n",
    "import os"
   ]
  },
  {
   "cell_type": "code",
   "execution_count": 2,
   "metadata": {},
   "outputs": [],
   "source": [
    "do_2d_special = True\n",
    "do_3d_vars = False\n",
    "do_3d_special = False"
   ]
  },
  {
   "cell_type": "code",
   "execution_count": 3,
   "metadata": {},
   "outputs": [],
   "source": [
    "########################################################\n",
    "# Directories and test selection\n",
    "########################################################\n",
    "\n",
    "# datdir = \"/glade/derecho/scratch/ruppert/piccolo/\"\n",
    "# datdir = \"/glade/campaign/univ/uokl0053/\"\n",
    "datdir = \"/ourdisk/hpc/radclouds/auto_archive_notyet/tape_2copies/piccolo/\"\n",
    "\n",
    "case = \"sept1-4\"\n",
    "test_process = \"ctl\"\n",
    "wrf_dom = \"wrf_fine\"\n",
    "nmem = 5 # number of ensemble members\n",
    "\n",
    "########################################################\n",
    "# New functions and single-use calls go here\n",
    "########################################################\n",
    "\n",
    "# Get variable lists\n",
    "vars2d = var_list_2d()\n",
    "# vars3d = var_list_3d()\n",
    "\n",
    "# Ens-member string tags (e.g., memb_01, memb_02, etc.)\n",
    "memb0=1 # Starting member to read\n",
    "memb_nums_str=np.arange(memb0,nmem+memb0,1).astype(str)\n",
    "nustr = np.char.zfill(memb_nums_str, 2)\n",
    "memb_all=np.char.add('memb_',nustr)\n",
    "\n",
    "def memb_dir_settings(memb_dir):\n",
    "    wrfdir = datdir+case+'/'+memb_dir+'/'+test_process+\"/\"+wrf_dom+\"/\"\n",
    "    outdir = wrfdir+\"post_proc/\"\n",
    "    os.makedirs(outdir, exist_ok=True)\n",
    "    # Get WRF file list, dimensions\n",
    "    wrffiles = get_wrf_file_list(wrfdir, \"wrfout_d01*\")\n",
    "    # hffiles = get_wrf_file_list(wrfdir, \"hfout_d01*\")\n",
    "    lat, lon, nx1, nx2, nz, npd = wrf_dims(wrffiles[0])\n",
    "    nfiles = len(wrffiles)\n",
    "    # New vertical dimension for pressure levels\n",
    "    # dp = 25 # hPa\n",
    "    # pres = np.arange(1000, 25, -dp)\n",
    "    # nznew = len(pres)\n",
    "    return outdir, wrffiles, nfiles, npd"
   ]
  },
  {
   "cell_type": "code",
   "execution_count": 5,
   "metadata": {},
   "outputs": [],
   "source": [
    "def get_2d_special_vars_itimestep(ds, it_file):\n",
    "\n",
    "    qv = getvar(ds, \"QVAPOR\", timeidx=it_file)#, cache=cache)\n",
    "    pwrf = getvar(ds, \"p\", units='Pa', timeidx=it_file)#, cache=cache)\n",
    "    # hght = getvar(dset, \"zstag\", units='m', timeidx=ALL_TIMES)#, cache=cache)\n",
    "    # tmpk = getvar(dset, \"tk\", timeidx=ALL_TIMES)#, cache=cache)\n",
    "    # rho = density_moist(tmpk, qv, pwrf)\n",
    "\n",
    "    # Get dz\n",
    "    # dz = np.zeros(qv.shape)\n",
    "    # for iz in range(nz):\n",
    "    #     dz[:,iz] = hght[:,iz+1] - hght[:,iz]\n",
    "    # Get dp\n",
    "    dp = pwrf.differentiate('bottom_top')*-1\n",
    "\n",
    "    # pclass\n",
    "    ipclass = wrf_pclass(ds, dp, it_file)#ALL_TIMES)\n",
    "    # pw\n",
    "    ipw = vert_int(qv, dp)\n",
    "    # pw_sat\n",
    "    qvsat = get_rv_sat(ds, pwrf, it_file)#ALL_TIMES)\n",
    "    qvsat = xr.DataArray(qvsat, coords=qv.coords, dims=qv.dims, attrs=qv.attrs)\n",
    "    ipw_sat = vert_int(qvsat, dp)\n",
    "\n",
    "    return ipclass, ipw, ipw_sat\n",
    "\n",
    "def get_2d_special_vars_iwrf(file):\n",
    "\n",
    "    ds = Dataset(file)\n",
    "    print(\"Opened \"+file)\n",
    "\n",
    "    # Loop over dataset time steps\n",
    "    nt_file = ds.dimensions['Time'].size\n",
    "    for it_file in range(nt_file):\n",
    "    # for it_file in range(5):\n",
    "        print()\n",
    "        print(\"IT file: \",it_file)\n",
    "\n",
    "        ipclass, ipw, ipw_sat = get_2d_special_vars_itimestep(ds, it_file)\n",
    "        if it_file == 0:\n",
    "            pclass_ifile = ipclass\n",
    "            pw_ifile = ipw\n",
    "            pw_sat_ifile = ipw_sat\n",
    "        else:\n",
    "            pclass_ifile = xr.concat((pclass_ifile, ipclass), 'Time')\n",
    "            pw_ifile = xr.concat((pw_ifile, ipw), 'Time')\n",
    "            pw_sat_ifile = xr.concat((pw_sat_ifile, ipw_sat), 'Time')\n",
    "\n",
    "    ds.close()\n",
    "\n",
    "    return pclass_ifile, pw_ifile, pw_sat_ifile"
   ]
  },
  {
   "cell_type": "code",
   "execution_count": 6,
   "metadata": {},
   "outputs": [
    {
     "name": "stdout",
     "output_type": "stream",
     "text": [
      "Processing member memb_01\n",
      "Opened /ourdisk/hpc/radclouds/auto_archive_notyet/tape_2copies/piccolo/sept1-4/memb_01/ctl/wrf_fine/wrfout_d01_2024-09-01_12:00:00\n",
      "\n",
      "0\n",
      "Got qv\n",
      "Got pwrf\n",
      "Got dp\n",
      "Got pclass\n",
      "Got pw\n",
      "Got qvsat1\n",
      "Got qvsat2\n",
      "Got pw_sat\n",
      "\n",
      "1\n",
      "Got qv\n",
      "Got pwrf\n",
      "Got dp\n",
      "Got pclass\n",
      "Got pw\n",
      "Got qvsat1\n",
      "Got qvsat2\n",
      "Got pw_sat\n",
      "\n",
      "2\n",
      "Got qv\n",
      "Got pwrf\n",
      "Got dp\n",
      "Got pclass\n",
      "Got pw\n",
      "Got qvsat1\n",
      "Got qvsat2\n",
      "Got pw_sat\n",
      "\n",
      "3\n",
      "Got qv\n",
      "Got pwrf\n",
      "Got dp\n",
      "Got pclass\n",
      "Got pw\n",
      "Got qvsat1\n",
      "Got qvsat2\n",
      "Got pw_sat\n",
      "\n",
      "4\n",
      "Got qv\n",
      "Got pwrf\n",
      "Got dp\n",
      "Got pclass\n",
      "Got pw\n"
     ]
    },
    {
     "ename": "KeyboardInterrupt",
     "evalue": "",
     "output_type": "error",
     "traceback": [
      "\u001b[0;31m---------------------------------------------------------------------------\u001b[0m",
      "\u001b[0;31mKeyboardInterrupt\u001b[0m                         Traceback (most recent call last)",
      "Cell \u001b[0;32mIn[6], line 20\u001b[0m\n\u001b[1;32m     17\u001b[0m wrffile \u001b[38;5;241m=\u001b[39m wrffiles[ifile]\n\u001b[1;32m     19\u001b[0m \u001b[38;5;66;03m# Process variables\u001b[39;00m\n\u001b[0;32m---> 20\u001b[0m pclass_ifile, pw_ifile, pw_sat_ifile \u001b[38;5;241m=\u001b[39m \u001b[43mget_2d_special_vars_iwrf\u001b[49m\u001b[43m(\u001b[49m\u001b[43mwrffile\u001b[49m\u001b[43m)\u001b[49m\n\u001b[1;32m     21\u001b[0m \u001b[38;5;66;03m# qv = get_2d_special_vars_iwrf(wrffile)\u001b[39;00m\n\u001b[1;32m     22\u001b[0m \u001b[38;5;66;03m# continue\u001b[39;00m\n\u001b[1;32m     23\u001b[0m \n\u001b[1;32m     24\u001b[0m \u001b[38;5;66;03m# Concatenate variables\u001b[39;00m\n\u001b[1;32m     26\u001b[0m \u001b[38;5;28;01mif\u001b[39;00m ifile \u001b[38;5;241m==\u001b[39m \u001b[38;5;241m0\u001b[39m:\n\u001b[1;32m     27\u001b[0m     \u001b[38;5;66;03m# pclass\u001b[39;00m\n",
      "Cell \u001b[0;32mIn[5], line 47\u001b[0m, in \u001b[0;36mget_2d_special_vars_iwrf\u001b[0;34m(file)\u001b[0m\n\u001b[1;32m     45\u001b[0m \u001b[38;5;28mprint\u001b[39m()\n\u001b[1;32m     46\u001b[0m \u001b[38;5;28mprint\u001b[39m(it_file)\n\u001b[0;32m---> 47\u001b[0m ipclass, ipw, ipw_sat \u001b[38;5;241m=\u001b[39m \u001b[43mget_2d_special_vars_itimestep\u001b[49m\u001b[43m(\u001b[49m\u001b[43mds\u001b[49m\u001b[43m,\u001b[49m\u001b[43m \u001b[49m\u001b[43mit_file\u001b[49m\u001b[43m)\u001b[49m\n\u001b[1;32m     48\u001b[0m \u001b[38;5;28;01mif\u001b[39;00m it_file \u001b[38;5;241m==\u001b[39m \u001b[38;5;241m0\u001b[39m:\n\u001b[1;32m     49\u001b[0m     pclass_ifile \u001b[38;5;241m=\u001b[39m ipclass\n",
      "Cell \u001b[0;32mIn[5], line 27\u001b[0m, in \u001b[0;36mget_2d_special_vars_itimestep\u001b[0;34m(ds, it_file)\u001b[0m\n\u001b[1;32m     25\u001b[0m \u001b[38;5;28mprint\u001b[39m(\u001b[38;5;124m\"\u001b[39m\u001b[38;5;124mGot pw\u001b[39m\u001b[38;5;124m\"\u001b[39m)\n\u001b[1;32m     26\u001b[0m \u001b[38;5;66;03m# pw_sat\u001b[39;00m\n\u001b[0;32m---> 27\u001b[0m qvsat \u001b[38;5;241m=\u001b[39m \u001b[43mget_rv_sat\u001b[49m\u001b[43m(\u001b[49m\u001b[43mds\u001b[49m\u001b[43m,\u001b[49m\u001b[43m \u001b[49m\u001b[43mpwrf\u001b[49m\u001b[43m,\u001b[49m\u001b[43m \u001b[49m\u001b[43mit_file\u001b[49m\u001b[43m)\u001b[49m\u001b[38;5;66;03m#ALL_TIMES)\u001b[39;00m\n\u001b[1;32m     28\u001b[0m \u001b[38;5;28mprint\u001b[39m(\u001b[38;5;124m\"\u001b[39m\u001b[38;5;124mGot qvsat1\u001b[39m\u001b[38;5;124m\"\u001b[39m)\n\u001b[1;32m     29\u001b[0m qvsat \u001b[38;5;241m=\u001b[39m xr\u001b[38;5;241m.\u001b[39mDataArray(qvsat, coords\u001b[38;5;241m=\u001b[39mqv\u001b[38;5;241m.\u001b[39mcoords, dims\u001b[38;5;241m=\u001b[39mqv\u001b[38;5;241m.\u001b[39mdims, attrs\u001b[38;5;241m=\u001b[39mqv\u001b[38;5;241m.\u001b[39mattrs)\n",
      "File \u001b[0;32m~/wrf-piccolo/python/post_proc_functions.py:42\u001b[0m, in \u001b[0;36mget_rv_sat\u001b[0;34m(ds, pwrf, timeidx)\u001b[0m\n\u001b[1;32m     40\u001b[0m \u001b[38;5;28;01mdef\u001b[39;00m \u001b[38;5;21mget_rv_sat\u001b[39m(ds, pwrf, timeidx):\n\u001b[1;32m     41\u001b[0m     \u001b[38;5;66;03m# Read in temp [K] and use that + pr to calculate saturation mixing ratio\u001b[39;00m\n\u001b[0;32m---> 42\u001b[0m     tmpk \u001b[38;5;241m=\u001b[39m \u001b[43mgetvar\u001b[49m\u001b[43m(\u001b[49m\u001b[43mds\u001b[49m\u001b[43m,\u001b[49m\u001b[43m \u001b[49m\u001b[38;5;124;43m'\u001b[39;49m\u001b[38;5;124;43mtk\u001b[39;49m\u001b[38;5;124;43m'\u001b[39;49m\u001b[43m,\u001b[49m\u001b[43m \u001b[49m\u001b[43mtimeidx\u001b[49m\u001b[38;5;241;43m=\u001b[39;49m\u001b[43mtimeidx\u001b[49m\u001b[43m)\u001b[49m \u001b[38;5;66;03m# K\u001b[39;00m\n\u001b[1;32m     43\u001b[0m     rv_sat \u001b[38;5;241m=\u001b[39m rv_saturation(tmpk\u001b[38;5;241m.\u001b[39mvalues, pwrf\u001b[38;5;241m.\u001b[39mvalues) \u001b[38;5;66;03m# kg/kg\u001b[39;00m\n\u001b[1;32m     44\u001b[0m     \u001b[38;5;28;01mreturn\u001b[39;00m rv_sat\n",
      "File \u001b[0;32m~/.conda/envs/plotting/lib/python3.11/site-packages/wrf/routines.py:354\u001b[0m, in \u001b[0;36mgetvar\u001b[0;34m(wrfin, varname, timeidx, method, squeeze, cache, meta, **kwargs)\u001b[0m\n\u001b[1;32m    350\u001b[0m     \u001b[38;5;28;01mraise\u001b[39;00m \u001b[38;5;167;01mValueError\u001b[39;00m(\u001b[38;5;124m\"\u001b[39m\u001b[38;5;124m'\u001b[39m\u001b[38;5;132;01m{}\u001b[39;00m\u001b[38;5;124m'\u001b[39m\u001b[38;5;124m is not a valid variable name\u001b[39m\u001b[38;5;124m\"\u001b[39m\u001b[38;5;241m.\u001b[39mformat(varname))\n\u001b[1;32m    352\u001b[0m _check_kargs(actual_var, kwargs)\n\u001b[0;32m--> 354\u001b[0m \u001b[38;5;28;01mreturn\u001b[39;00m \u001b[43m_FUNC_MAP\u001b[49m\u001b[43m[\u001b[49m\u001b[43mactual_var\u001b[49m\u001b[43m]\u001b[49m\u001b[43m(\u001b[49m\u001b[43mwrfin\u001b[49m\u001b[43m,\u001b[49m\u001b[43m \u001b[49m\u001b[43mtimeidx\u001b[49m\u001b[43m,\u001b[49m\u001b[43m \u001b[49m\u001b[43mmethod\u001b[49m\u001b[43m,\u001b[49m\u001b[43m \u001b[49m\u001b[43msqueeze\u001b[49m\u001b[43m,\u001b[49m\u001b[43m \u001b[49m\u001b[43mcache\u001b[49m\u001b[43m,\u001b[49m\n\u001b[1;32m    355\u001b[0m \u001b[43m                             \u001b[49m\u001b[43mmeta\u001b[49m\u001b[43m,\u001b[49m\u001b[43m \u001b[49m\u001b[43m_key\u001b[49m\u001b[43m,\u001b[49m\u001b[43m \u001b[49m\u001b[38;5;241;43m*\u001b[39;49m\u001b[38;5;241;43m*\u001b[39;49m\u001b[43mkwargs\u001b[49m\u001b[43m)\u001b[49m\n",
      "File \u001b[0;32m~/.conda/envs/plotting/lib/python3.11/site-packages/wrf/g_temp.py:454\u001b[0m, in \u001b[0;36mget_tk\u001b[0;34m(wrfin, timeidx, method, squeeze, cache, meta, _key)\u001b[0m\n\u001b[1;32m    400\u001b[0m \u001b[38;5;28;01mdef\u001b[39;00m \u001b[38;5;21mget_tk\u001b[39m(wrfin, timeidx\u001b[38;5;241m=\u001b[39m\u001b[38;5;241m0\u001b[39m, method\u001b[38;5;241m=\u001b[39m\u001b[38;5;124m\"\u001b[39m\u001b[38;5;124mcat\u001b[39m\u001b[38;5;124m\"\u001b[39m, squeeze\u001b[38;5;241m=\u001b[39m\u001b[38;5;28;01mTrue\u001b[39;00m, cache\u001b[38;5;241m=\u001b[39m\u001b[38;5;28;01mNone\u001b[39;00m,\n\u001b[1;32m    401\u001b[0m            meta\u001b[38;5;241m=\u001b[39m\u001b[38;5;28;01mTrue\u001b[39;00m, _key\u001b[38;5;241m=\u001b[39m\u001b[38;5;28;01mNone\u001b[39;00m):\n\u001b[1;32m    402\u001b[0m \u001b[38;5;250m    \u001b[39m\u001b[38;5;124;03m\"\"\"Return the temperature in [K].\u001b[39;00m\n\u001b[1;32m    403\u001b[0m \n\u001b[1;32m    404\u001b[0m \u001b[38;5;124;03m    This functions extracts the necessary variables from the NetCDF file\u001b[39;00m\n\u001b[0;32m   (...)\u001b[0m\n\u001b[1;32m    452\u001b[0m \n\u001b[1;32m    453\u001b[0m \u001b[38;5;124;03m    \"\"\"\u001b[39;00m\n\u001b[0;32m--> 454\u001b[0m     \u001b[38;5;28;01mreturn\u001b[39;00m \u001b[43mget_temp\u001b[49m\u001b[43m(\u001b[49m\u001b[43mwrfin\u001b[49m\u001b[43m,\u001b[49m\u001b[43m \u001b[49m\u001b[43mtimeidx\u001b[49m\u001b[43m,\u001b[49m\u001b[43m \u001b[49m\u001b[43mmethod\u001b[49m\u001b[43m,\u001b[49m\u001b[43m \u001b[49m\u001b[43msqueeze\u001b[49m\u001b[43m,\u001b[49m\u001b[43m \u001b[49m\u001b[43mcache\u001b[49m\u001b[43m,\u001b[49m\u001b[43m \u001b[49m\u001b[43mmeta\u001b[49m\u001b[43m,\u001b[49m\u001b[43m \u001b[49m\u001b[43m_key\u001b[49m\u001b[43m,\u001b[49m\n\u001b[1;32m    455\u001b[0m \u001b[43m                    \u001b[49m\u001b[43munits\u001b[49m\u001b[38;5;241;43m=\u001b[39;49m\u001b[38;5;124;43m\"\u001b[39;49m\u001b[38;5;124;43mK\u001b[39;49m\u001b[38;5;124;43m\"\u001b[39;49m\u001b[43m)\u001b[49m\n",
      "File \u001b[0;32m~/.conda/envs/plotting/lib/python3.11/site-packages/wrf/metadecorators.py:129\u001b[0m, in \u001b[0;36mcopy_and_set_metadata.<locals>.func_wrapper\u001b[0;34m(wrapped, instance, args, kwargs)\u001b[0m\n\u001b[1;32m    126\u001b[0m new_args, cache_argloc \u001b[38;5;241m=\u001b[39m arg_location(wrapped, \u001b[38;5;124m\"\u001b[39m\u001b[38;5;124mcache\u001b[39m\u001b[38;5;124m\"\u001b[39m, args, kwargs)\n\u001b[1;32m    127\u001b[0m new_args[cache_argloc] \u001b[38;5;241m=\u001b[39m new_cache\n\u001b[0;32m--> 129\u001b[0m result \u001b[38;5;241m=\u001b[39m \u001b[43mwrapped\u001b[49m\u001b[43m(\u001b[49m\u001b[38;5;241;43m*\u001b[39;49m\u001b[43mnew_args\u001b[49m\u001b[43m)\u001b[49m\n\u001b[1;32m    131\u001b[0m outname \u001b[38;5;241m=\u001b[39m \u001b[38;5;124m\"\u001b[39m\u001b[38;5;124m\"\u001b[39m\n\u001b[1;32m    132\u001b[0m outdimnames \u001b[38;5;241m=\u001b[39m \u001b[38;5;28mlist\u001b[39m()\n",
      "File \u001b[0;32m~/.conda/envs/plotting/lib/python3.11/site-packages/wrf/decorators.py:46\u001b[0m, in \u001b[0;36mconvert_units.<locals>.func_wrapper\u001b[0;34m(wrapped, instance, args, kwargs)\u001b[0m\n\u001b[1;32m     43\u001b[0m check_units(u_cleaned, unit_type)\n\u001b[1;32m     45\u001b[0m \u001b[38;5;66;03m# Unit conversion done here\u001b[39;00m\n\u001b[0;32m---> 46\u001b[0m \u001b[38;5;28;01mreturn\u001b[39;00m do_conversion(\u001b[43mwrapped\u001b[49m\u001b[43m(\u001b[49m\u001b[38;5;241;43m*\u001b[39;49m\u001b[43margs\u001b[49m\u001b[43m,\u001b[49m\u001b[43m \u001b[49m\u001b[38;5;241;43m*\u001b[39;49m\u001b[38;5;241;43m*\u001b[39;49m\u001b[43mkwargs\u001b[49m\u001b[43m)\u001b[49m, unit_type,\n\u001b[1;32m     47\u001b[0m                      alg_unit, desired_units)\n",
      "File \u001b[0;32m~/.conda/envs/plotting/lib/python3.11/site-packages/wrf/g_temp.py:146\u001b[0m, in \u001b[0;36mget_temp\u001b[0;34m(wrfin, timeidx, method, squeeze, cache, meta, _key, units)\u001b[0m\n\u001b[1;32m     88\u001b[0m \u001b[38;5;250m\u001b[39m\u001b[38;5;124;03m\"\"\"Return the temperature in the specified units.\u001b[39;00m\n\u001b[1;32m     89\u001b[0m \n\u001b[1;32m     90\u001b[0m \u001b[38;5;124;03mThis functions extracts the necessary variables from the NetCDF file\u001b[39;00m\n\u001b[0;32m   (...)\u001b[0m\n\u001b[1;32m    142\u001b[0m \n\u001b[1;32m    143\u001b[0m \u001b[38;5;124;03m\"\"\"\u001b[39;00m\n\u001b[1;32m    145\u001b[0m varnames \u001b[38;5;241m=\u001b[39m (\u001b[38;5;124m\"\u001b[39m\u001b[38;5;124mT\u001b[39m\u001b[38;5;124m\"\u001b[39m, \u001b[38;5;124m\"\u001b[39m\u001b[38;5;124mP\u001b[39m\u001b[38;5;124m\"\u001b[39m, \u001b[38;5;124m\"\u001b[39m\u001b[38;5;124mPB\u001b[39m\u001b[38;5;124m\"\u001b[39m)\n\u001b[0;32m--> 146\u001b[0m ncvars \u001b[38;5;241m=\u001b[39m \u001b[43mextract_vars\u001b[49m\u001b[43m(\u001b[49m\u001b[43mwrfin\u001b[49m\u001b[43m,\u001b[49m\u001b[43m \u001b[49m\u001b[43mtimeidx\u001b[49m\u001b[43m,\u001b[49m\u001b[43m \u001b[49m\u001b[43mvarnames\u001b[49m\u001b[43m,\u001b[49m\u001b[43m \u001b[49m\u001b[43mmethod\u001b[49m\u001b[43m,\u001b[49m\u001b[43m \u001b[49m\u001b[43msqueeze\u001b[49m\u001b[43m,\u001b[49m\u001b[43m \u001b[49m\u001b[43mcache\u001b[49m\u001b[43m,\u001b[49m\n\u001b[1;32m    147\u001b[0m \u001b[43m                      \u001b[49m\u001b[43mmeta\u001b[49m\u001b[38;5;241;43m=\u001b[39;49m\u001b[38;5;28;43;01mFalse\u001b[39;49;00m\u001b[43m,\u001b[49m\u001b[43m \u001b[49m\u001b[43m_key\u001b[49m\u001b[38;5;241;43m=\u001b[39;49m\u001b[43m_key\u001b[49m\u001b[43m)\u001b[49m\n\u001b[1;32m    148\u001b[0m t \u001b[38;5;241m=\u001b[39m ncvars[\u001b[38;5;124m\"\u001b[39m\u001b[38;5;124mT\u001b[39m\u001b[38;5;124m\"\u001b[39m]\n\u001b[1;32m    149\u001b[0m p \u001b[38;5;241m=\u001b[39m ncvars[\u001b[38;5;124m\"\u001b[39m\u001b[38;5;124mP\u001b[39m\u001b[38;5;124m\"\u001b[39m]\n",
      "File \u001b[0;32m~/.conda/envs/plotting/lib/python3.11/site-packages/wrf/util.py:2290\u001b[0m, in \u001b[0;36mextract_vars\u001b[0;34m(wrfin, timeidx, varnames, method, squeeze, cache, meta, _key)\u001b[0m\n\u001b[1;32m   2287\u001b[0m \u001b[38;5;28;01melse\u001b[39;00m:\n\u001b[1;32m   2288\u001b[0m     varlist \u001b[38;5;241m=\u001b[39m varnames\n\u001b[0;32m-> 2290\u001b[0m \u001b[38;5;28;01mreturn\u001b[39;00m \u001b[43m{\u001b[49m\u001b[43mvar\u001b[49m\u001b[43m:\u001b[49m\u001b[43m \u001b[49m\u001b[43m_extract_var\u001b[49m\u001b[43m(\u001b[49m\u001b[43mwrfin\u001b[49m\u001b[43m,\u001b[49m\u001b[43m \u001b[49m\u001b[43mvar\u001b[49m\u001b[43m,\u001b[49m\u001b[43m \u001b[49m\u001b[43mtimeidx\u001b[49m\u001b[43m,\u001b[49m\u001b[43m \u001b[49m\u001b[38;5;28;43;01mNone\u001b[39;49;00m\u001b[43m,\u001b[49m\n\u001b[1;32m   2291\u001b[0m \u001b[43m                          \u001b[49m\u001b[43mmethod\u001b[49m\u001b[43m,\u001b[49m\u001b[43m \u001b[49m\u001b[43msqueeze\u001b[49m\u001b[43m,\u001b[49m\u001b[43m \u001b[49m\u001b[43mcache\u001b[49m\u001b[43m,\u001b[49m\u001b[43m \u001b[49m\u001b[43mmeta\u001b[49m\u001b[43m,\u001b[49m\u001b[43m \u001b[49m\u001b[43m_key\u001b[49m\u001b[43m)\u001b[49m\n\u001b[1;32m   2292\u001b[0m \u001b[43m        \u001b[49m\u001b[38;5;28;43;01mfor\u001b[39;49;00m\u001b[43m \u001b[49m\u001b[43mvar\u001b[49m\u001b[43m \u001b[49m\u001b[38;5;129;43;01min\u001b[39;49;00m\u001b[43m \u001b[49m\u001b[43mvarlist\u001b[49m\u001b[43m}\u001b[49m\n",
      "File \u001b[0;32m~/.conda/envs/plotting/lib/python3.11/site-packages/wrf/util.py:2290\u001b[0m, in \u001b[0;36m<dictcomp>\u001b[0;34m(.0)\u001b[0m\n\u001b[1;32m   2287\u001b[0m \u001b[38;5;28;01melse\u001b[39;00m:\n\u001b[1;32m   2288\u001b[0m     varlist \u001b[38;5;241m=\u001b[39m varnames\n\u001b[0;32m-> 2290\u001b[0m \u001b[38;5;28;01mreturn\u001b[39;00m {var: \u001b[43m_extract_var\u001b[49m\u001b[43m(\u001b[49m\u001b[43mwrfin\u001b[49m\u001b[43m,\u001b[49m\u001b[43m \u001b[49m\u001b[43mvar\u001b[49m\u001b[43m,\u001b[49m\u001b[43m \u001b[49m\u001b[43mtimeidx\u001b[49m\u001b[43m,\u001b[49m\u001b[43m \u001b[49m\u001b[38;5;28;43;01mNone\u001b[39;49;00m\u001b[43m,\u001b[49m\n\u001b[1;32m   2291\u001b[0m \u001b[43m                          \u001b[49m\u001b[43mmethod\u001b[49m\u001b[43m,\u001b[49m\u001b[43m \u001b[49m\u001b[43msqueeze\u001b[49m\u001b[43m,\u001b[49m\u001b[43m \u001b[49m\u001b[43mcache\u001b[49m\u001b[43m,\u001b[49m\u001b[43m \u001b[49m\u001b[43mmeta\u001b[49m\u001b[43m,\u001b[49m\u001b[43m \u001b[49m\u001b[43m_key\u001b[49m\u001b[43m)\u001b[49m\n\u001b[1;32m   2292\u001b[0m         \u001b[38;5;28;01mfor\u001b[39;00m var \u001b[38;5;129;01min\u001b[39;00m varlist}\n",
      "File \u001b[0;32m~/.conda/envs/plotting/lib/python3.11/site-packages/wrf/util.py:2221\u001b[0m, in \u001b[0;36m_extract_var\u001b[0;34m(wrfin, varname, timeidx, is_moving, method, squeeze, cache, meta, _key)\u001b[0m\n\u001b[1;32m   2219\u001b[0m \u001b[38;5;28;01melse\u001b[39;00m:\n\u001b[1;32m   2220\u001b[0m     \u001b[38;5;28;01mif\u001b[39;00m \u001b[38;5;129;01mnot\u001b[39;00m multitime:\n\u001b[0;32m-> 2221\u001b[0m         result \u001b[38;5;241m=\u001b[39m \u001b[43mwrfin\u001b[49m\u001b[38;5;241;43m.\u001b[39;49m\u001b[43mvariables\u001b[49m\u001b[43m[\u001b[49m\u001b[43mvarname\u001b[49m\u001b[43m]\u001b[49m\u001b[43m[\u001b[49m\u001b[43mtimeidx\u001b[49m\u001b[43m,\u001b[49m\u001b[43m \u001b[49m\u001b[43m:\u001b[49m\u001b[43m]\u001b[49m\n\u001b[1;32m   2222\u001b[0m         result \u001b[38;5;241m=\u001b[39m result[np\u001b[38;5;241m.\u001b[39mnewaxis, :]  \u001b[38;5;66;03m# So that no squeeze works\u001b[39;00m\n\u001b[1;32m   2223\u001b[0m     \u001b[38;5;28;01melse\u001b[39;00m:\n",
      "File \u001b[0;32msrc/netCDF4/_netCDF4.pyx:5011\u001b[0m, in \u001b[0;36mnetCDF4._netCDF4.Variable.__getitem__\u001b[0;34m()\u001b[0m\n",
      "File \u001b[0;32msrc/netCDF4/_netCDF4.pyx:5159\u001b[0m, in \u001b[0;36mnetCDF4._netCDF4.Variable._toma\u001b[0;34m()\u001b[0m\n",
      "File \u001b[0;32m~/.conda/envs/plotting/lib/python3.11/site-packages/numpy/core/_methods.py:55\u001b[0m, in \u001b[0;36m_any\u001b[0;34m(a, axis, dtype, out, keepdims, where)\u001b[0m\n\u001b[1;32m     51\u001b[0m \u001b[38;5;28;01mdef\u001b[39;00m \u001b[38;5;21m_prod\u001b[39m(a, axis\u001b[38;5;241m=\u001b[39m\u001b[38;5;28;01mNone\u001b[39;00m, dtype\u001b[38;5;241m=\u001b[39m\u001b[38;5;28;01mNone\u001b[39;00m, out\u001b[38;5;241m=\u001b[39m\u001b[38;5;28;01mNone\u001b[39;00m, keepdims\u001b[38;5;241m=\u001b[39m\u001b[38;5;28;01mFalse\u001b[39;00m,\n\u001b[1;32m     52\u001b[0m           initial\u001b[38;5;241m=\u001b[39m_NoValue, where\u001b[38;5;241m=\u001b[39m\u001b[38;5;28;01mTrue\u001b[39;00m):\n\u001b[1;32m     53\u001b[0m     \u001b[38;5;28;01mreturn\u001b[39;00m umr_prod(a, axis, dtype, out, keepdims, initial, where)\n\u001b[0;32m---> 55\u001b[0m \u001b[38;5;28;01mdef\u001b[39;00m \u001b[38;5;21m_any\u001b[39m(a, axis\u001b[38;5;241m=\u001b[39m\u001b[38;5;28;01mNone\u001b[39;00m, dtype\u001b[38;5;241m=\u001b[39m\u001b[38;5;28;01mNone\u001b[39;00m, out\u001b[38;5;241m=\u001b[39m\u001b[38;5;28;01mNone\u001b[39;00m, keepdims\u001b[38;5;241m=\u001b[39m\u001b[38;5;28;01mFalse\u001b[39;00m, \u001b[38;5;241m*\u001b[39m, where\u001b[38;5;241m=\u001b[39m\u001b[38;5;28;01mTrue\u001b[39;00m):\n\u001b[1;32m     56\u001b[0m     \u001b[38;5;66;03m# Parsing keyword arguments is currently fairly slow, so avoid it for now\u001b[39;00m\n\u001b[1;32m     57\u001b[0m     \u001b[38;5;28;01mif\u001b[39;00m where \u001b[38;5;129;01mis\u001b[39;00m \u001b[38;5;28;01mTrue\u001b[39;00m:\n\u001b[1;32m     58\u001b[0m         \u001b[38;5;28;01mreturn\u001b[39;00m umr_any(a, axis, dtype, out, keepdims)\n",
      "\u001b[0;31mKeyboardInterrupt\u001b[0m: "
     ]
    }
   ],
   "source": [
    "if do_2d_special:\n",
    "\n",
    "    memb_dir = memb_all[0]\n",
    "\n",
    "    # for memb_dir in memb_all:\n",
    "\n",
    "    # memb_dir = memb_all[comm.rank]\n",
    "\n",
    "    print(\"Processing member \"+memb_dir)\n",
    "    outdir, wrffiles, nfiles, npd = memb_dir_settings(memb_dir)\n",
    "\n",
    "    # Read in variable from WRF files\n",
    "    for ifile in range(nfiles):\n",
    "    # for ifile in range(1):\n",
    "\n",
    "        # Open the WRF file\n",
    "        wrffile = wrffiles[ifile]\n",
    "\n",
    "        # Process variables\n",
    "        pclass_ifile, pw_ifile, pw_sat_ifile = get_2d_special_vars_iwrf(wrffile)\n",
    "\n",
    "        # Concatenate variables\n",
    "\n",
    "        if ifile == 0:\n",
    "            # pclass\n",
    "            pclass_all = pclass_ifile\n",
    "            # pw\n",
    "            pw_all = pw_ifile\n",
    "            # pw_sat\n",
    "            pw_sat_all = pw_sat_ifile\n",
    "        else:\n",
    "            pclass_all = xr.concat((pclass_all, pclass_ifile), 'Time')\n",
    "            pw_all = xr.concat((pw_all, pw_ifile), 'Time')\n",
    "            pw_sat_all = xr.concat((pw_sat_all, pw_sat_ifile), 'Time')\n",
    "\n",
    "    # Remove duplicate time steps\n",
    "    pclass_all = pclass_all.drop_duplicates(dim=\"Time\", keep='first')\n",
    "    pw_all     = pw_all.drop_duplicates(dim=\"Time\", keep='first')\n",
    "    pw_sat_all = pw_sat_all.drop_duplicates(dim=\"Time\", keep='first')\n",
    "\n",
    "    # Write out the variables\n",
    "    var_name='pclass'\n",
    "    write_ncfile(outdir, pclass_all, var_name)\n",
    "    var_name='pw'\n",
    "    write_ncfile(outdir, pw_all, var_name)\n",
    "    var_name='pw_sat'\n",
    "    write_ncfile(outdir, pw_sat_all, var_name)\n",
    "\n",
    "print(\"Done writing out special 2D variables\")"
   ]
  },
  {
   "cell_type": "code",
   "execution_count": 6,
   "metadata": {},
   "outputs": [
    {
     "name": "stdout",
     "output_type": "stream",
     "text": [
      "3.555 GB for one time step\n",
      "255.96 GB for all 72 time steps\n"
     ]
    }
   ],
   "source": [
    "# # GB\n",
    "# gb = qv.nbytes/1e9\n",
    "# print(gb, \"GB for one time step\")\n",
    "\n",
    "# # for ntime = 72\n",
    "# print(gb*72, \"GB for all 72 time steps\")"
   ]
  },
  {
   "cell_type": "code",
   "execution_count": 8,
   "metadata": {},
   "outputs": [],
   "source": [
    "ds = xr.open_dataset(wrffile)"
   ]
  },
  {
   "cell_type": "code",
   "execution_count": 9,
   "metadata": {},
   "outputs": [
    {
     "data": {
      "text/plain": [
       "1423.081389528"
      ]
     },
     "execution_count": 9,
     "metadata": {},
     "output_type": "execute_result"
    }
   ],
   "source": [
    "gb_ds = ds.nbytes/1e9\n",
    "gb_ds"
   ]
  },
  {
   "cell_type": "code",
   "execution_count": 14,
   "metadata": {},
   "outputs": [
    {
     "data": {
      "text/plain": [
       "51.192"
      ]
     },
     "execution_count": 14,
     "metadata": {},
     "output_type": "execute_result"
    }
   ],
   "source": [
    "ds['QVAPOR'].nbytes / 1e9\n",
    "ds['QVAPOR'].data.nbytes / 1e9"
   ]
  },
  {
   "cell_type": "code",
   "execution_count": 13,
   "metadata": {},
   "outputs": [],
   "source": [
    "ds.close()"
   ]
  },
  {
   "cell_type": "code",
   "execution_count": 16,
   "metadata": {},
   "outputs": [
    {
     "name": "stdout",
     "output_type": "stream",
     "text": [
      "\n",
      "Total:      134.32 GB\n",
      "Avail:      72.41 GB\n",
      "Used:       58.35 GB\n",
      "Free:       71.93 GB\n",
      "Active:     57.87 GB\n",
      "Inactive:   2.55 GB\n",
      "\n"
     ]
    }
   ],
   "source": [
    "import psutil\n",
    "import numpy as np\n",
    "\n",
    "def memory_usage():\n",
    "\n",
    "    mem = psutil.virtual_memory()\n",
    "\n",
    "    togb = 1e-9\n",
    "\n",
    "    nround=2\n",
    "\n",
    "    total    = np.round(mem[0]*togb, nround)\n",
    "    avail    = np.round(mem[1]*togb, nround)\n",
    "    used     = np.round(mem[3]*togb, nround)\n",
    "    free     = np.round(mem[4]*togb, nround)\n",
    "    active   = np.round(mem[5]*togb, nround)\n",
    "    inactive = np.round(mem[6]*togb, nround)\n",
    "\n",
    "    print()\n",
    "    print(\"Total:     \",total,\"GB\")\n",
    "    print(\"Avail:     \",avail,\"GB\")\n",
    "    print(\"Used:      \",used,\"GB\")\n",
    "    print(\"Free:      \",free,\"GB\")\n",
    "    print(\"Active:    \",active,\"GB\")\n",
    "    print(\"Inactive:  \",inactive,\"GB\")\n",
    "    print()\n",
    "memory_usage()"
   ]
  }
 ],
 "metadata": {
  "kernelspec": {
   "display_name": "plotting",
   "language": "python",
   "name": "python3"
  },
  "language_info": {
   "codemirror_mode": {
    "name": "ipython",
    "version": 3
   },
   "file_extension": ".py",
   "mimetype": "text/x-python",
   "name": "python",
   "nbconvert_exporter": "python",
   "pygments_lexer": "ipython3",
   "version": "3.11.9"
  }
 },
 "nbformat": 4,
 "nbformat_minor": 2
}
