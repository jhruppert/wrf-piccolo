{
 "cells": [
  {
   "cell_type": "markdown",
   "metadata": {},
   "source": [
    "Script to post-process high-resolution WRF model output.\n",
    "\n",
    "Major tasks include computing the following for selected variables:\n",
    "  1. domain-averages to produce time series\n",
    "  2. vertical integrals\n",
    "  3. pressure-level vertical interpolation\n",
    "\n",
    "James Ruppert  \n",
    "25 Nov 2024"
   ]
  },
  {
   "cell_type": "code",
   "execution_count": 11,
   "metadata": {},
   "outputs": [],
   "source": [
    "from netCDF4 import Dataset\n",
    "import numpy as np\n",
    "from wrf import getvar, ALL_TIMES#, vinterp\n",
    "import xarray as xr\n",
    "from read_wrf_piccolo import *\n",
    "from post_proc_functions import *\n",
    "import os"
   ]
  },
  {
   "cell_type": "code",
   "execution_count": 12,
   "metadata": {},
   "outputs": [],
   "source": [
    "do_2d_special = True\n",
    "do_3d_vars = False\n",
    "do_3d_special = False"
   ]
  },
  {
   "cell_type": "code",
   "execution_count": 16,
   "metadata": {},
   "outputs": [],
   "source": [
    "########################################################\n",
    "# Directories and test selection\n",
    "########################################################\n",
    "\n",
    "# datdir = \"/glade/derecho/scratch/ruppert/piccolo/\"\n",
    "datdir = \"/glade/campaign/univ/uokl0053/\"\n",
    "# datdir = \"/ourdisk/hpc/radclouds/auto_archive_notyet/tape_2copies/piccolo/\"\n",
    "\n",
    "case = \"sept1-4\"\n",
    "test_process = \"ctl\"\n",
    "wrf_dom = \"wrf_fine\"\n",
    "nmem = 5 # number of ensemble members\n",
    "\n",
    "########################################################\n",
    "# New functions and single-use calls go here\n",
    "########################################################\n",
    "\n",
    "# Get variable lists\n",
    "vars2d = var_list_2d()\n",
    "# vars3d = var_list_3d()\n",
    "\n",
    "# Ens-member string tags (e.g., memb_01, memb_02, etc.)\n",
    "memb0=1 # Starting member to read\n",
    "memb_nums_str=np.arange(memb0,nmem+memb0,1).astype(str)\n",
    "nustr = np.char.zfill(memb_nums_str, 2)\n",
    "memb_all=np.char.add('memb_',nustr)\n",
    "\n",
    "def memb_dir_settings(memb_dir):\n",
    "    wrfdir = datdir+case+'/'+memb_dir+'/'+test_process+\"/\"+wrf_dom+\"/\"\n",
    "    outdir = wrfdir+\"post_proc/\"\n",
    "    os.makedirs(outdir, exist_ok=True)\n",
    "    # Get WRF file list, dimensions\n",
    "    wrffiles = get_wrf_file_list(wrfdir, \"wrfout_d01*\")\n",
    "    # hffiles = get_wrf_file_list(wrfdir, \"hfout_d01*\")\n",
    "    lat, lon, nx1, nx2, nz, npd = wrf_dims(wrffiles[0])\n",
    "    nfiles = len(wrffiles)\n",
    "    # New vertical dimension for pressure levels\n",
    "    # dp = 25 # hPa\n",
    "    # pres = np.arange(1000, 25, -dp)\n",
    "    # nznew = len(pres)\n",
    "    return outdir, wrffiles, nfiles, npd"
   ]
  },
  {
   "cell_type": "code",
   "execution_count": 14,
   "metadata": {},
   "outputs": [],
   "source": [
    "# Read and reduce variables for a given time step\n",
    "def get_2d_special_vars_itimestep(ds, it_file):\n",
    "    qv = getvar(ds, \"QVAPOR\", timeidx=it_file)#, cache=cache)\n",
    "    dp = get_dp(ds, timeidx=it_file) # Pa\n",
    "    # pclass\n",
    "    ipclass = wrf_pclass(ds, dp, it_file)#ALL_TIMES)\n",
    "    # pw\n",
    "    ipw = vert_int(qv, dp)\n",
    "    # pw_sat\n",
    "    # qvsat = get_rv_sat(ds, pwrf, it_file)#ALL_TIMES)\n",
    "    # tmpk = getvar(ds, 'tk', timeidx=it_file) # K\n",
    "    # qvsat = rv_saturation(tmpk.values, pwrf.values) # kg/kg\n",
    "    # qvsat = xr.DataArray(qvsat, coords=qv.coords, dims=qv.dims, attrs=qv.attrs)\n",
    "    # ipw_sat = vert_int(qvsat, dp)\n",
    "    # vertical mass flux\n",
    "    wa = getvar(ds, \"wa\", timeidx=it_file)\n",
    "    ivmf = vert_int(wa, dp)\n",
    "    return ipclass, ipw, ivmf#, ipw_sat\n",
    "\n",
    "# Loop over WRF input file time steps to read and reduce variables\n",
    "def get_2d_special_vars_iwrf(file, var_list_special):\n",
    "    ds = Dataset(file)\n",
    "    # Loop over dataset time steps\n",
    "    nt_file = ds.dimensions['Time'].size\n",
    "    # for it_file in range(nt_file):\n",
    "    for it_file in range(2):\n",
    "        ipclass, ipw, ivmf = get_2d_special_vars_itimestep(ds, it_file)\n",
    "        if it_file == 0:\n",
    "            pclass_ifile = ipclass\n",
    "            pw_ifile = ipw\n",
    "            # pw_sat_ifile = ipw_sat\n",
    "            vmf_ifile = ivmf\n",
    "        else:\n",
    "            pclass_ifile = xr.concat((pclass_ifile, ipclass), 'Time')\n",
    "            pw_ifile = xr.concat((pw_ifile, ipw), 'Time')\n",
    "            # pw_sat_ifile = xr.concat((pw_sat_ifile, ipw_sat), 'Time')\n",
    "            vmf_ifile = xr.concat((vmf_ifile, ivmf), 'Time')\n",
    "    ds.close()\n",
    "    return pclass_ifile, pw_ifile, vmf_ifile#, pw_sat_ifile"
   ]
  },
  {
   "cell_type": "code",
   "execution_count": 17,
   "metadata": {},
   "outputs": [
    {
     "name": "stdout",
     "output_type": "stream",
     "text": [
      "Processing member memb_01\n"
     ]
    },
    {
     "ename": "",
     "evalue": "",
     "output_type": "error",
     "traceback": [
      "\u001b[1;31mThe Kernel crashed while executing code in the the current cell or a previous cell. Please review the code in the cell(s) to identify a possible cause of the failure. Click <a href='https://aka.ms/vscodeJupyterKernelCrash'>here</a> for more info. View Jupyter <a href='command:jupyter.viewOutput'>log</a> for further details."
     ]
    }
   ],
   "source": [
    "if do_2d_special:\n",
    "\n",
    "    var_list_special = ['pclass', 'pw', 'vmf']\n",
    "\n",
    "    memb_dir = memb_all[0]\n",
    "\n",
    "    # for memb_dir in memb_all:\n",
    "\n",
    "    # memb_dir = memb_all[comm.rank]\n",
    "\n",
    "    print(\"Processing \"+memb_dir)\n",
    "    outdir, wrffiles, nfiles, npd = memb_dir_settings(memb_dir)\n",
    "\n",
    "    # Read in variable from WRF files\n",
    "    for ifile in range(nfiles):\n",
    "    # for ifile in range(1):\n",
    "\n",
    "        # Open the WRF file\n",
    "        wrffile = wrffiles[ifile]\n",
    "\n",
    "        # Process variables\n",
    "        pclass_ifile, pw_ifile, pw_sat_ifile = get_2d_special_vars_iwrf(wrffile, var_list_special)\n",
    "\n",
    "        # Concatenate variables\n",
    "\n",
    "        if ifile == 0:\n",
    "            # pclass\n",
    "            pclass_all = pclass_ifile\n",
    "            # pw\n",
    "            pw_all = pw_ifile\n",
    "            # pw_sat\n",
    "            pw_sat_all = pw_sat_ifile\n",
    "        else:\n",
    "            pclass_all = xr.concat((pclass_all, pclass_ifile), 'Time')\n",
    "            pw_all = xr.concat((pw_all, pw_ifile), 'Time')\n",
    "            pw_sat_all = xr.concat((pw_sat_all, pw_sat_ifile), 'Time')\n",
    "\n",
    "    # Remove duplicate time steps\n",
    "    pclass_all = pclass_all.drop_duplicates(dim=\"Time\", keep='first')\n",
    "    pw_all     = pw_all.drop_duplicates(dim=\"Time\", keep='first')\n",
    "    pw_sat_all = pw_sat_all.drop_duplicates(dim=\"Time\", keep='first')\n",
    "\n",
    "    # Write out the variables\n",
    "    # var_name='pclass'\n",
    "    # write_ncfile(outdir, pclass_all, var_name)\n",
    "    # var_name='pw'\n",
    "    # write_ncfile(outdir, pw_all, var_name)\n",
    "    # var_name='pw_sat'\n",
    "    # write_ncfile(outdir, pw_sat_all, var_name)\n",
    "\n",
    "print(\"Done writing out special 2D variables\")"
   ]
  }
 ],
 "metadata": {
  "kernelspec": {
   "display_name": "plotting",
   "language": "python",
   "name": "python3"
  },
  "language_info": {
   "codemirror_mode": {
    "name": "ipython",
    "version": 3
   },
   "file_extension": ".py",
   "mimetype": "text/x-python",
   "name": "python",
   "nbconvert_exporter": "python",
   "pygments_lexer": "ipython3",
   "version": "3.11.10"
  }
 },
 "nbformat": 4,
 "nbformat_minor": 2
}
