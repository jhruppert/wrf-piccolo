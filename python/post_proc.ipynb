{
 "cells": [
  {
   "cell_type": "markdown",
   "metadata": {},
   "source": [
    "Script to post-process high-resolution WRF model output.\n",
    "\n",
    "Major tasks include computing the following for selected variables:\n",
    "  1. domain-averages to produce time series\n",
    "  2. vertical integrals\n",
    "  3. pressure-level vertical interpolation\n",
    "\n",
    "James Ruppert  \n",
    "25 Nov 2024"
   ]
  },
  {
   "cell_type": "code",
   "execution_count": 12,
   "metadata": {},
   "outputs": [],
   "source": [
    "from netCDF4 import Dataset\n",
    "import numpy as np\n",
    "from wrf import getvar, ALL_TIMES#, vinterp\n",
    "import xarray as xr\n",
    "from read_wrf_piccolo import *\n",
    "from post_proc_functions import *\n",
    "import os"
   ]
  },
  {
   "cell_type": "code",
   "execution_count": 13,
   "metadata": {},
   "outputs": [],
   "source": [
    "do_2d_special = False\n",
    "do_3d_vars = False\n",
    "do_3d_special = False\n",
    "do_rainrate = True # Set select=1:ncpus=1:mpiprocs=1:ompthreads=1"
   ]
  },
  {
   "cell_type": "code",
   "execution_count": 14,
   "metadata": {},
   "outputs": [],
   "source": [
    "########################################################\n",
    "# Directories and test selection\n",
    "########################################################\n",
    "\n",
    "datdir = \"/glade/derecho/scratch/ruppert/piccolo/\"\n",
    "# datdir = \"/glade/campaign/univ/uokl0053/\"\n",
    "# datdir = \"/ourdisk/hpc/radclouds/auto_archive_notyet/tape_2copies/piccolo/\"\n",
    "\n",
    "case = \"sept1-4\"\n",
    "test_process = \"ncrf12h\"\n",
    "wrf_dom = \"wrf_fine\"\n",
    "nmem = 5 # number of ensemble members\n",
    "\n",
    "########################################################\n",
    "# New functions and single-use calls go here\n",
    "########################################################\n",
    "\n",
    "# Ens-member string tags (e.g., memb_01, memb_02, etc.)\n",
    "memb0=1 # Starting member to read\n",
    "memb_nums_str=np.arange(memb0,nmem+memb0,1).astype(str)\n",
    "nustr = np.char.zfill(memb_nums_str, 2)\n",
    "memb_all=np.char.add('memb_',nustr)"
   ]
  },
  {
   "cell_type": "code",
   "execution_count": 15,
   "metadata": {},
   "outputs": [],
   "source": [
    "def calculate_rainrate(rainnc_all, npd):\n",
    "    rainrate = rainnc_all.copy()\n",
    "    nt_all = rainrate.shape[0]\n",
    "    rainrate[0] = 0\n",
    "    rainrate[nt_all-1] = np.nan\n",
    "    rainrate[1:-1] = (rainnc_all.values[2:] - rainnc_all.values[:-2])*0.5\n",
    "    rainrate *= npd # Convert to mm/day\n",
    "    return rainrate"
   ]
  },
  {
   "cell_type": "code",
   "execution_count": 16,
   "metadata": {},
   "outputs": [
    {
     "name": "stdout",
     "output_type": "stream",
     "text": [
      "Done writing out rainrate\n"
     ]
    }
   ],
   "source": [
    "if do_rainrate:\n",
    "\n",
    "        # for memb_dir in memb_all:\n",
    "        memb_dir = memb_all[0]\n",
    "\n",
    "        outdir, wrffiles, nfiles, npd = memb_dir_settings(datdir, case, test_process, wrf_dom, memb_dir)\n",
    "\n",
    "        ds = xr.open_dataset(outdir+'RAINNC.nc')\n",
    "        rainnc = ds['RAINNC']\n",
    "        # Get rainrate\n",
    "        rainrate = calculate_rainrate(rainnc, npd)\n",
    "        # rainrate = xr.DataArray(rainrate, coords=rainnc.coords, dims=rainnc.dims, attrs=rainnc.attrs)\n",
    "        # Write out\n",
    "        var_name='rainrate'\n",
    "        write_ncfile(outdir, rainrate, var_name)\n",
    "\n",
    "        print(\"Done writing out rainrate\")"
   ]
  },
  {
   "cell_type": "code",
   "execution_count": 18,
   "metadata": {},
   "outputs": [
    {
     "data": {
      "text/plain": [
       "72"
      ]
     },
     "execution_count": 18,
     "metadata": {},
     "output_type": "execute_result"
    }
   ],
   "source": [
    "npd"
   ]
  }
 ],
 "metadata": {
  "kernelspec": {
   "display_name": "plotting",
   "language": "python",
   "name": "python3"
  },
  "language_info": {
   "codemirror_mode": {
    "name": "ipython",
    "version": 3
   },
   "file_extension": ".py",
   "mimetype": "text/x-python",
   "name": "python",
   "nbconvert_exporter": "python",
   "pygments_lexer": "ipython3",
   "version": "3.11.10"
  }
 },
 "nbformat": 4,
 "nbformat_minor": 2
}
