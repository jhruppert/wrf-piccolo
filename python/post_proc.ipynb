{
 "cells": [
  {
   "cell_type": "markdown",
   "metadata": {},
   "source": [
    "Script to post-process high-resolution WRF model output.\n",
    "\n",
    "Major tasks include computing the following for selected variables:\n",
    "  1. domain-averages to produce time series\n",
    "  2. vertical integrals\n",
    "  3. pressure-level vertical interpolation\n",
    "\n",
    "James Ruppert  \n",
    "25 Nov 2024"
   ]
  },
  {
   "cell_type": "code",
   "execution_count": 1,
   "metadata": {},
   "outputs": [],
   "source": [
    "import xarray as xr\n",
    "import numpy as np\n",
    "from read_wrf_piccolo import *\n",
    "from post_proc_functions import *\n",
    "import os"
   ]
  },
  {
   "cell_type": "code",
   "execution_count": 2,
   "metadata": {},
   "outputs": [],
   "source": [
    "do_2d_special = False\n",
    "do_3d_vars = False\n",
    "do_rainrate = False # Set select=1:ncpus=1:mpiprocs=1:ompthreads=1\n",
    "do_2d_special = False # Set select=5:ncpus=1:mpiprocs=1:ompthreads=1\n",
    "vars_2dspecial = ['pw_sat']#['pclass', 'pw', 'vmf']#, 'pw_sat']\n",
    "do_3d_vars = True"
   ]
  },
  {
   "cell_type": "code",
   "execution_count": 3,
   "metadata": {},
   "outputs": [],
   "source": [
    "########################################################\n",
    "# Directories and test selection\n",
    "########################################################\n",
    "\n",
    "datdir = \"/glade/derecho/scratch/ruppert/piccolo/\"\n",
    "# datdir = \"/glade/campaign/univ/uokl0053/\"\n",
    "# datdir = \"/ourdisk/hpc/radclouds/auto_archive_notyet/tape_2copies/piccolo/\"\n",
    "\n",
    "case = \"sept1-4\"\n",
    "test_process = \"ctl\"\n",
    "# test_process = \"ncrf12h\"\n",
    "wrf_dom = \"wrf_fine\"\n",
    "nmem = 5 # number of ensemble members\n",
    "\n",
    "########################################################\n",
    "# New functions and single-use calls go here\n",
    "########################################################\n",
    "\n",
    "# Ens-member string tags (e.g., memb_01, memb_02, etc.)\n",
    "memb0=1 # Starting member to read\n",
    "memb_nums_str=np.arange(memb0,nmem+memb0,1).astype(str)\n",
    "nustr = np.char.zfill(memb_nums_str, 2)\n",
    "memb_all=np.char.add('memb_',nustr)"
   ]
  },
  {
   "cell_type": "code",
   "execution_count": 18,
   "metadata": {},
   "outputs": [
    {
     "data": {
      "text/plain": [
       "'20200901T0040'"
      ]
     },
     "execution_count": 18,
     "metadata": {},
     "output_type": "execute_result"
    }
   ],
   "source": []
  }
 ],
 "metadata": {
  "kernelspec": {
   "display_name": "plotting",
   "language": "python",
   "name": "python3"
  },
  "language_info": {
   "codemirror_mode": {
    "name": "ipython",
    "version": 3
   },
   "file_extension": ".py",
   "mimetype": "text/x-python",
   "name": "python",
   "nbconvert_exporter": "python",
   "pygments_lexer": "ipython3",
   "version": "3.11.10"
  }
 },
 "nbformat": 4,
 "nbformat_minor": 2
}
