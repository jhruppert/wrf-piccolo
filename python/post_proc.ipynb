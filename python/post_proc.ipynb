{
 "cells": [
  {
   "cell_type": "markdown",
   "metadata": {},
   "source": [
    "Script to post-process high-resolution WRF model output.\n",
    "\n",
    "Major tasks include computing the following for selected variables:\n",
    "  1. domain-averages to produce time series\n",
    "  2. vertical integrals\n",
    "  3. pressure-level vertical interpolation\n",
    "\n",
    "James Ruppert  \n",
    "25 Nov 2024"
   ]
  },
  {
   "cell_type": "code",
   "execution_count": 1,
   "metadata": {},
   "outputs": [],
   "source": [
    "from netCDF4 import Dataset\n",
    "import numpy as np\n",
    "from wrf import getvar, vinterp, ALL_TIMES\n",
    "import xarray as xr\n",
    "from read_wrf_piccolo import *\n",
    "from post_proc_functions import *\n",
    "import os"
   ]
  },
  {
   "cell_type": "code",
   "execution_count": 2,
   "metadata": {},
   "outputs": [],
   "source": [
    "do_2d_special = True\n",
    "do_3d_vars = False\n",
    "do_3d_special = False"
   ]
  },
  {
   "cell_type": "code",
   "execution_count": 3,
   "metadata": {},
   "outputs": [],
   "source": [
    "########################################################\n",
    "# Directories and test selection\n",
    "########################################################\n",
    "\n",
    "datdir = \"/glade/derecho/scratch/ruppert/piccolo/\"\n",
    "# datdir = \"/glade/campaign/univ/uokl0053/\"\n",
    "\n",
    "case = \"sept1-4\"\n",
    "test_process = \"ctl\"\n",
    "wrf_dom = \"wrf_fine\"\n",
    "nmem = 5 # number of ensemble members\n",
    "\n",
    "########################################################\n",
    "# New functions and single-use calls go here\n",
    "########################################################\n",
    "\n",
    "# Get variable lists\n",
    "vars2d = var_list_2d()\n",
    "# vars3d = var_list_3d()\n",
    "\n",
    "# Ens-member string tags (e.g., memb_01, memb_02, etc.)\n",
    "memb0=1 # Starting member to read\n",
    "memb_nums_str=np.arange(memb0,nmem+memb0,1).astype(str)\n",
    "nustr = np.char.zfill(memb_nums_str, 2)\n",
    "memb_all=np.char.add('memb_',nustr)\n",
    "\n",
    "def memb_dir_settings(memb_dir):\n",
    "    wrfdir = datdir+case+'/'+memb_dir+'/'+test_process+\"/\"+wrf_dom+\"/\"\n",
    "    outdir = wrfdir+\"post_proc/\"\n",
    "    os.makedirs(outdir, exist_ok=True)\n",
    "    # Get WRF file list, dimensions\n",
    "    wrffiles = get_wrf_file_list(wrfdir, \"wrfout_d01*\")\n",
    "    # hffiles = get_wrf_file_list(wrfdir, \"hfout_d01*\")\n",
    "    lat, lon, nx1, nx2, nz, npd = wrf_dims(wrffiles[0])\n",
    "    nfiles = len(wrffiles)\n",
    "    # New vertical dimension for pressure levels\n",
    "    # dp = 25 # hPa\n",
    "    # pres = np.arange(1000, 25, -dp)\n",
    "    # nznew = len(pres)\n",
    "    return outdir, wrffiles, nfiles, npd"
   ]
  },
  {
   "cell_type": "code",
   "execution_count": 4,
   "metadata": {},
   "outputs": [
    {
     "name": "stdout",
     "output_type": "stream",
     "text": [
      "Processing member memb_01\n"
     ]
    },
    {
     "ename": "",
     "evalue": "",
     "output_type": "error",
     "traceback": [
      "\u001b[1;31mThe Kernel crashed while executing code in the the current cell or a previous cell. Please review the code in the cell(s) to identify a possible cause of the failure. Click <a href='https://aka.ms/vscodeJupyterKernelCrash'>here</a> for more info. View Jupyter <a href='command:jupyter.viewOutput'>log</a> for further details."
     ]
    }
   ],
   "source": [
    "if do_2d_special:\n",
    "\n",
    "    memb_dir = memb_all[0]\n",
    "\n",
    "    # for memb_dir in memb_all:\n",
    "\n",
    "    # memb_dir = memb_all[comm.rank]\n",
    "\n",
    "    print(\"Processing member \"+memb_dir)\n",
    "    outdir, wrffiles, nfiles, npd = memb_dir_settings(memb_dir)\n",
    "\n",
    "    # Read in variable from WRF files\n",
    "    # for ifile in range(nfiles):\n",
    "    for ifile in range(2):\n",
    "\n",
    "        # Open the WRF file\n",
    "        file = wrffiles[ifile]\n",
    "        ds = Dataset(file)\n",
    "\n",
    "        qv = getvar(ds, \"QVAPOR\", timeidx=ALL_TIMES)#, cache=cache)\n",
    "        pwrf = getvar(ds, \"p\", units='Pa', timeidx=ALL_TIMES)#, cache=cache)\n",
    "        # hght = getvar(dset, \"zstag\", units='m', timeidx=ALL_TIMES)#, cache=cache)\n",
    "        # tmpk = getvar(dset, \"tk\", timeidx=ALL_TIMES)#, cache=cache)\n",
    "        # rho = density_moist(tmpk, qv, pwrf)\n",
    "\n",
    "        # Get dz\n",
    "        # dz = np.zeros(qv.shape)\n",
    "        # for iz in range(nz):\n",
    "        #     dz[:,iz] = hght[:,iz+1] - hght[:,iz]\n",
    "        # Get dp\n",
    "        dp = pwrf.differentiate('bottom_top')*-1\n",
    "\n",
    "        # Process variables\n",
    "\n",
    "        # pclass\n",
    "        var = wrf_pclass(ds, dp)\n",
    "        if ifile == 0:\n",
    "            pclass_all = var\n",
    "        else:\n",
    "            pclass_all = xr.concat((pclass_all, var), 'Time')\n",
    "\n",
    "        # pw\n",
    "        var = vert_int(qv, dp)\n",
    "        if ifile == 0:\n",
    "            pw_all = var\n",
    "        else:\n",
    "            pw_all = xr.concat((pw_all, var), 'Time')\n",
    "\n",
    "        # pw_sat\n",
    "        qvsat = get_rv_sat(ds, pwrf)\n",
    "        qvsat = xr.DataArray(qvsat, coords=qv.coords, dims=qv.dims, attrs=qv.attrs)\n",
    "        var = vert_int(qvsat, dp)\n",
    "        if ifile == 0:\n",
    "            pw_sat_all = var\n",
    "        else:\n",
    "            pw_sat_all = xr.concat((pw_sat_all, var), 'Time')\n",
    "\n",
    "        ds.close()\n",
    "\n",
    "    # Remove duplicate time steps\n",
    "    pclass_all = pclass_all.drop_duplicates(dim=\"Time\", keep='first')\n",
    "    pw_all     = pw_all.drop_duplicates(dim=\"Time\", keep='first')\n",
    "    pw_sat_all = pw_sat_all.drop_duplicates(dim=\"Time\", keep='first')\n",
    "\n",
    "    # Write out the variables\n",
    "    var_name='pclass'\n",
    "    write_ncfile(outdir, pclass_all, var_name)\n",
    "    var_name='pw'\n",
    "    write_ncfile(outdir, pw_all, var_name)\n",
    "    var_name='pw_sat'\n",
    "    write_ncfile(outdir, pw_sat_all, var_name)\n",
    "\n",
    "print(\"Done writing out special 2D variables\")"
   ]
  }
 ],
 "metadata": {
  "kernelspec": {
   "display_name": "plotting",
   "language": "python",
   "name": "python3"
  },
  "language_info": {
   "codemirror_mode": {
    "name": "ipython",
    "version": 3
   },
   "file_extension": ".py",
   "mimetype": "text/x-python",
   "name": "python",
   "nbconvert_exporter": "python",
   "pygments_lexer": "ipython3",
   "version": "3.11.10"
  }
 },
 "nbformat": 4,
 "nbformat_minor": 2
}
