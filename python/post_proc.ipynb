{
 "cells": [
  {
   "cell_type": "code",
   "execution_count": 1,
   "metadata": {},
   "outputs": [],
   "source": [
    "# Script to post-process high-resolution WRF model output.\n",
    "\n",
    "# Major tasks include computing the following for selected variables:\n",
    "#   1. domain-averages to produce time series\n",
    "#   2. vertical integrals\n",
    "#   3. pressure-level vertical interpolation"
   ]
  },
  {
   "cell_type": "code",
   "execution_count": 2,
   "metadata": {},
   "outputs": [],
   "source": [
    "from netCDF4 import Dataset\n",
    "import numpy as np\n",
    "from wrf import getvar, vinterp, ALL_TIMES\n",
    "import xarray as xr\n",
    "from read_wrf_piccolo import *\n",
    "from post_proc_functions import *\n",
    "import os"
   ]
  },
  {
   "cell_type": "code",
   "execution_count": 3,
   "metadata": {},
   "outputs": [],
   "source": [
    "do_2d_special = True\n",
    "do_3d_vars = False\n",
    "do_3d_special = False"
   ]
  },
  {
   "cell_type": "code",
   "execution_count": 4,
   "metadata": {},
   "outputs": [],
   "source": [
    "#### Directories and model output specs\n",
    "\n",
    "case = \"sept1-4\"\n",
    "test_process = \"ctl\"\n",
    "\n",
    "wrfdir = \"/glade/campaign/univ/uokl0053/\"+test_process+\"/\"\n",
    "# wrfdir = \"/ourdisk/hpc/radclouds/auto_archive_notyet/tape_2copies/wrf-ideal/largedom2/\"+test_process+\"/\"\n",
    "outdir = wrfdir+\"post_proc/\"\n",
    "os.makedirs(outdir, exist_ok=True)\n",
    "\n",
    "# # Get WRF file list, dimensions\n",
    "wrftag = \"wrfout_d01\"\n",
    "wrffiles = get_wrf_file_list(wrfdir, wrftag)\n",
    "lat, lon, nx1, nx2, nz, npd = wrf_dims(wrffiles[0])\n",
    "nfiles = len(wrffiles)\n",
    "\n",
    "# New vertical dimension for pressure levels\n",
    "dp = 25 # hPa\n",
    "pres = np.arange(1000, 25, -dp)\n",
    "nznew = len(pres)\n",
    "\n",
    "# Get variable lists\n",
    "vars3d = var_list_3d()"
   ]
  },
  {
   "cell_type": "code",
   "execution_count": 5,
   "metadata": {},
   "outputs": [
    {
     "name": "stdout",
     "output_type": "stream",
     "text": [
      "Processing /ourdisk/hpc/radclouds/auto_archive_notyet/tape_2copies/wrf-ideal/largedom2/ctl/wrfout_d01_2007-06-01_00:00:00\n"
     ]
    }
   ],
   "source": [
    "if do_2d_special:\n",
    "\n",
    "    # Read in variable from WRF files\n",
    "    # for ifile in range(nfiles):\n",
    "    for ifile in range(1):\n",
    "\n",
    "        # Open the WRF file\n",
    "        file = wrffiles[ifile]\n",
    "        print(\"Processing \"+file)\n",
    "        ds = Dataset(file)\n",
    "\n",
    "        qv = getvar(ds, \"QVAPOR\", timeidx=ALL_TIMES)#, cache=cache)\n",
    "        pwrf = getvar(ds, \"p\", units='Pa', timeidx=ALL_TIMES)#, cache=cache)\n",
    "        # hght = getvar(dset, \"zstag\", units='m', timeidx=ALL_TIMES)#, cache=cache)\n",
    "        # tmpk = getvar(dset, \"tk\", timeidx=ALL_TIMES)#, cache=cache)\n",
    "        # rho = density_moist(tmpk, qv, pwrf)\n",
    "\n",
    "        # Get dz\n",
    "        # dz = np.zeros(qv.shape)\n",
    "        # for iz in range(nz):\n",
    "        #     dz[:,iz] = hght[:,iz+1] - hght[:,iz]\n",
    "        # Get dp\n",
    "        dp = pwrf.differentiate('bottom_top')*-1\n",
    "\n",
    "        # Read in variables\n",
    "\n",
    "        # rainrate\n",
    "        var = getvar(ds, 'RAINNC', timeidx=ALL_TIMES)\n",
    "        if ifile == 0:\n",
    "            rainnc_all = var\n",
    "        else:\n",
    "            rainnc_all = xr.concat((rainnc_all, var), 'Time')\n",
    "        # pclass\n",
    "        var = wrf_pclass(ds, dp)\n",
    "        if ifile == 0:\n",
    "            pclass_all = var\n",
    "        else:\n",
    "            pclass_all = xr.concat((pclass_all, var), 'Time')\n",
    "        # pw\n",
    "        var = vert_int(qv, dp)\n",
    "        if ifile == 0:\n",
    "            pw_all = var\n",
    "        else:\n",
    "            pw_all = xr.concat((pw_all, var), 'Time')\n",
    "        # pw_sat\n",
    "        qvsat = get_rv_sat(ds, pwrf)\n",
    "        qvsat = xr.DataArray(qvsat, coords=qv.coords, dims=qv.dims, attrs=qv.attrs)\n",
    "        var = vert_int(qvsat, dp)\n",
    "        if ifile == 0:\n",
    "            pw_sat_all = var\n",
    "        else:\n",
    "            pw_sat_all = xr.concat((pw_sat_all, var), 'Time')\n",
    "\n",
    "        ds.close()\n",
    "\n",
    "    # Calculate rain rate as centered difference\n",
    "    nt_all = rainnc_all.shape[0]\n",
    "    rainrate = rainnc_all.copy()\n",
    "    rainrate[0] = 0\n",
    "    rainrate[nt_all-1] = np.nan\n",
    "    rainrate[1:-1] = (rainnc_all.values[2:] - rainnc_all.values[:-2])*0.5\n",
    "    rainrate *= npd # mm/time step --> mm/day\n",
    "\n",
    "    # Write out the variables\n",
    "    var_name='pclass'\n",
    "    write_ncfile(outdir, pclass_all, var_name)\n",
    "    var_name='rainrate'\n",
    "    write_ncfile(outdir, rainrate, var_name)\n",
    "    var_name='pw'\n",
    "    write_ncfile(outdir, pw_all, var_name)\n",
    "    var_name='pw_sat'\n",
    "    write_ncfile(outdir, pw_sat_all, var_name)"
   ]
  },
  {
   "cell_type": "code",
   "execution_count": 8,
   "metadata": {},
   "outputs": [],
   "source": [
    "if do_3d_vars:\n",
    "\n",
    "    for ivar in vars3d[0:1]:\n",
    "\n",
    "        varname_str = ivar.upper()\n",
    "\n",
    "        # Read in variable from WRF files\n",
    "        # for ifile in range(nfiles):\n",
    "        print(ivar.upper())\n",
    "        for ifile in range(1):\n",
    "            wrfdset = Dataset(wrffiles[ifile])\n",
    "            var = wrfdset.variables[ivar.upper()][...]\n",
    "            wrfdset.close()\n",
    "            if ifile == 0:\n",
    "                var_all = var\n",
    "            else:\n",
    "                var_all = np.concatenate((var_all, var), axis=0)"
   ]
  },
  {
   "cell_type": "code",
   "execution_count": 26,
   "metadata": {},
   "outputs": [
    {
     "data": {
      "text/plain": [
       "(48, 39, 266, 266)"
      ]
     },
     "execution_count": 26,
     "metadata": {},
     "output_type": "execute_result"
    }
   ],
   "source": [
    "dset = Dataset(wrffiles[0])\n",
    "qv = getvar(dset, \"QVAPOR\", timeidx=ALL_TIMES)#, cache=cache)\n",
    "qv_interp = vinterp(dset, qv, 'p', pres, extrapolate=True, timeidx=ALL_TIMES)#, cache=cache)\n",
    "dset.close()\n",
    "qv_interp.shape"
   ]
  },
  {
   "cell_type": "code",
   "execution_count": 11,
   "metadata": {},
   "outputs": [
    {
     "name": "stdout",
     "output_type": "stream",
     "text": [
      "Time without cache: 1:32\n",
      "Time with cache: 2:23\n"
     ]
    }
   ],
   "source": [
    "print('Time without cache: 1:23')\n",
    "print('Time with cache: 2:23')"
   ]
  },
  {
   "cell_type": "code",
   "execution_count": 31,
   "metadata": {},
   "outputs": [
    {
     "ename": "TypeError",
     "evalue": "Invalid value for attr 'projection': RotatedLatLon(stand_lon=0.0, moad_cen_lat=0.0, truelat1=0.0, truelat2=0.0, pole_lat=0.0, pole_lon=0.0). For serialization to netCDF files, its value must be of one of the following types: str, Number, ndarray, number, list, tuple",
     "output_type": "error",
     "traceback": [
      "\u001b[0;31m---------------------------------------------------------------------------\u001b[0m",
      "\u001b[0;31mTypeError\u001b[0m                                 Traceback (most recent call last)",
      "Cell \u001b[0;32mIn[31], line 2\u001b[0m\n\u001b[1;32m      1\u001b[0m outfile \u001b[38;5;241m=\u001b[39m outdir\u001b[38;5;241m+\u001b[39m\u001b[38;5;124m\"\u001b[39m\u001b[38;5;124mqv_interp.nc\u001b[39m\u001b[38;5;124m\"\u001b[39m\n\u001b[0;32m----> 2\u001b[0m \u001b[43mqv_interp\u001b[49m\u001b[38;5;241;43m.\u001b[39;49m\u001b[43mto_netcdf\u001b[49m\u001b[43m(\u001b[49m\u001b[43moutfile\u001b[49m\u001b[43m,\u001b[49m\u001b[43m \u001b[49m\u001b[43mmode\u001b[49m\u001b[38;5;241;43m=\u001b[39;49m\u001b[38;5;124;43m'\u001b[39;49m\u001b[38;5;124;43mw\u001b[39;49m\u001b[38;5;124;43m'\u001b[39;49m\u001b[43m,\u001b[49m\u001b[43m \u001b[49m\u001b[38;5;28;43mformat\u001b[39;49m\u001b[38;5;241;43m=\u001b[39;49m\u001b[38;5;124;43m'\u001b[39;49m\u001b[38;5;124;43mNETCDF4\u001b[39;49m\u001b[38;5;124;43m'\u001b[39;49m\u001b[43m)\u001b[49m\n",
      "File \u001b[0;32m~/.conda/envs/plotting/lib/python3.11/site-packages/xarray/core/dataarray.py:4095\u001b[0m, in \u001b[0;36mDataArray.to_netcdf\u001b[0;34m(self, path, mode, format, group, engine, encoding, unlimited_dims, compute, invalid_netcdf)\u001b[0m\n\u001b[1;32m   4091\u001b[0m \u001b[38;5;28;01melse\u001b[39;00m:\n\u001b[1;32m   4092\u001b[0m     \u001b[38;5;66;03m# No problems with the name - so we're fine!\u001b[39;00m\n\u001b[1;32m   4093\u001b[0m     dataset \u001b[38;5;241m=\u001b[39m \u001b[38;5;28mself\u001b[39m\u001b[38;5;241m.\u001b[39mto_dataset()\n\u001b[0;32m-> 4095\u001b[0m \u001b[38;5;28;01mreturn\u001b[39;00m \u001b[43mto_netcdf\u001b[49m\u001b[43m(\u001b[49m\u001b[43m  \u001b[49m\u001b[38;5;66;43;03m# type: ignore  # mypy cannot resolve the overloads:(\u001b[39;49;00m\n\u001b[1;32m   4096\u001b[0m \u001b[43m    \u001b[49m\u001b[43mdataset\u001b[49m\u001b[43m,\u001b[49m\n\u001b[1;32m   4097\u001b[0m \u001b[43m    \u001b[49m\u001b[43mpath\u001b[49m\u001b[43m,\u001b[49m\n\u001b[1;32m   4098\u001b[0m \u001b[43m    \u001b[49m\u001b[43mmode\u001b[49m\u001b[38;5;241;43m=\u001b[39;49m\u001b[43mmode\u001b[49m\u001b[43m,\u001b[49m\n\u001b[1;32m   4099\u001b[0m \u001b[43m    \u001b[49m\u001b[38;5;28;43mformat\u001b[39;49m\u001b[38;5;241;43m=\u001b[39;49m\u001b[38;5;28;43mformat\u001b[39;49m\u001b[43m,\u001b[49m\n\u001b[1;32m   4100\u001b[0m \u001b[43m    \u001b[49m\u001b[43mgroup\u001b[49m\u001b[38;5;241;43m=\u001b[39;49m\u001b[43mgroup\u001b[49m\u001b[43m,\u001b[49m\n\u001b[1;32m   4101\u001b[0m \u001b[43m    \u001b[49m\u001b[43mengine\u001b[49m\u001b[38;5;241;43m=\u001b[39;49m\u001b[43mengine\u001b[49m\u001b[43m,\u001b[49m\n\u001b[1;32m   4102\u001b[0m \u001b[43m    \u001b[49m\u001b[43mencoding\u001b[49m\u001b[38;5;241;43m=\u001b[39;49m\u001b[43mencoding\u001b[49m\u001b[43m,\u001b[49m\n\u001b[1;32m   4103\u001b[0m \u001b[43m    \u001b[49m\u001b[43munlimited_dims\u001b[49m\u001b[38;5;241;43m=\u001b[39;49m\u001b[43munlimited_dims\u001b[49m\u001b[43m,\u001b[49m\n\u001b[1;32m   4104\u001b[0m \u001b[43m    \u001b[49m\u001b[43mcompute\u001b[49m\u001b[38;5;241;43m=\u001b[39;49m\u001b[43mcompute\u001b[49m\u001b[43m,\u001b[49m\n\u001b[1;32m   4105\u001b[0m \u001b[43m    \u001b[49m\u001b[43mmultifile\u001b[49m\u001b[38;5;241;43m=\u001b[39;49m\u001b[38;5;28;43;01mFalse\u001b[39;49;00m\u001b[43m,\u001b[49m\n\u001b[1;32m   4106\u001b[0m \u001b[43m    \u001b[49m\u001b[43minvalid_netcdf\u001b[49m\u001b[38;5;241;43m=\u001b[39;49m\u001b[43minvalid_netcdf\u001b[49m\u001b[43m,\u001b[49m\n\u001b[1;32m   4107\u001b[0m \u001b[43m\u001b[49m\u001b[43m)\u001b[49m\n",
      "File \u001b[0;32m~/.conda/envs/plotting/lib/python3.11/site-packages/xarray/backends/api.py:1292\u001b[0m, in \u001b[0;36mto_netcdf\u001b[0;34m(dataset, path_or_file, mode, format, group, engine, encoding, unlimited_dims, compute, multifile, invalid_netcdf)\u001b[0m\n\u001b[1;32m   1290\u001b[0m \u001b[38;5;66;03m# validate Dataset keys, DataArray names, and attr keys/values\u001b[39;00m\n\u001b[1;32m   1291\u001b[0m _validate_dataset_names(dataset)\n\u001b[0;32m-> 1292\u001b[0m \u001b[43m_validate_attrs\u001b[49m\u001b[43m(\u001b[49m\u001b[43mdataset\u001b[49m\u001b[43m,\u001b[49m\u001b[43m \u001b[49m\u001b[43minvalid_netcdf\u001b[49m\u001b[38;5;241;43m=\u001b[39;49m\u001b[43minvalid_netcdf\u001b[49m\u001b[43m \u001b[49m\u001b[38;5;129;43;01mand\u001b[39;49;00m\u001b[43m \u001b[49m\u001b[43mengine\u001b[49m\u001b[43m \u001b[49m\u001b[38;5;241;43m==\u001b[39;49m\u001b[43m \u001b[49m\u001b[38;5;124;43m\"\u001b[39;49m\u001b[38;5;124;43mh5netcdf\u001b[39;49m\u001b[38;5;124;43m\"\u001b[39;49m\u001b[43m)\u001b[49m\n\u001b[1;32m   1294\u001b[0m \u001b[38;5;28;01mtry\u001b[39;00m:\n\u001b[1;32m   1295\u001b[0m     store_open \u001b[38;5;241m=\u001b[39m WRITEABLE_STORES[engine]\n",
      "File \u001b[0;32m~/.conda/envs/plotting/lib/python3.11/site-packages/xarray/backends/api.py:208\u001b[0m, in \u001b[0;36m_validate_attrs\u001b[0;34m(dataset, invalid_netcdf)\u001b[0m\n\u001b[1;32m    206\u001b[0m \u001b[38;5;28;01mfor\u001b[39;00m variable \u001b[38;5;129;01min\u001b[39;00m dataset\u001b[38;5;241m.\u001b[39mvariables\u001b[38;5;241m.\u001b[39mvalues():\n\u001b[1;32m    207\u001b[0m     \u001b[38;5;28;01mfor\u001b[39;00m k, v \u001b[38;5;129;01min\u001b[39;00m variable\u001b[38;5;241m.\u001b[39mattrs\u001b[38;5;241m.\u001b[39mitems():\n\u001b[0;32m--> 208\u001b[0m         \u001b[43mcheck_attr\u001b[49m\u001b[43m(\u001b[49m\u001b[43mk\u001b[49m\u001b[43m,\u001b[49m\u001b[43m \u001b[49m\u001b[43mv\u001b[49m\u001b[43m,\u001b[49m\u001b[43m \u001b[49m\u001b[43mvalid_types\u001b[49m\u001b[43m)\u001b[49m\n",
      "File \u001b[0;32m~/.conda/envs/plotting/lib/python3.11/site-packages/xarray/backends/api.py:195\u001b[0m, in \u001b[0;36m_validate_attrs.<locals>.check_attr\u001b[0;34m(name, value, valid_types)\u001b[0m\n\u001b[1;32m    189\u001b[0m     \u001b[38;5;28;01mraise\u001b[39;00m \u001b[38;5;167;01mTypeError\u001b[39;00m(\n\u001b[1;32m    190\u001b[0m         \u001b[38;5;124mf\u001b[39m\u001b[38;5;124m\"\u001b[39m\u001b[38;5;124mInvalid name for attr: \u001b[39m\u001b[38;5;132;01m{\u001b[39;00mname\u001b[38;5;132;01m!r}\u001b[39;00m\u001b[38;5;124m must be a string for \u001b[39m\u001b[38;5;124m\"\u001b[39m\n\u001b[1;32m    191\u001b[0m         \u001b[38;5;124m\"\u001b[39m\u001b[38;5;124mserialization to netCDF files\u001b[39m\u001b[38;5;124m\"\u001b[39m\n\u001b[1;32m    192\u001b[0m     )\n\u001b[1;32m    194\u001b[0m \u001b[38;5;28;01mif\u001b[39;00m \u001b[38;5;129;01mnot\u001b[39;00m \u001b[38;5;28misinstance\u001b[39m(value, valid_types):\n\u001b[0;32m--> 195\u001b[0m     \u001b[38;5;28;01mraise\u001b[39;00m \u001b[38;5;167;01mTypeError\u001b[39;00m(\n\u001b[1;32m    196\u001b[0m         \u001b[38;5;124mf\u001b[39m\u001b[38;5;124m\"\u001b[39m\u001b[38;5;124mInvalid value for attr \u001b[39m\u001b[38;5;132;01m{\u001b[39;00mname\u001b[38;5;132;01m!r}\u001b[39;00m\u001b[38;5;124m: \u001b[39m\u001b[38;5;132;01m{\u001b[39;00mvalue\u001b[38;5;132;01m!r}\u001b[39;00m\u001b[38;5;124m. For serialization to \u001b[39m\u001b[38;5;124m\"\u001b[39m\n\u001b[1;32m    197\u001b[0m         \u001b[38;5;124m\"\u001b[39m\u001b[38;5;124mnetCDF files, its value must be of one of the following types: \u001b[39m\u001b[38;5;124m\"\u001b[39m\n\u001b[1;32m    198\u001b[0m         \u001b[38;5;124mf\u001b[39m\u001b[38;5;124m\"\u001b[39m\u001b[38;5;132;01m{\u001b[39;00m\u001b[38;5;124m'\u001b[39m\u001b[38;5;124m, \u001b[39m\u001b[38;5;124m'\u001b[39m\u001b[38;5;241m.\u001b[39mjoin([vtype\u001b[38;5;241m.\u001b[39m\u001b[38;5;18m__name__\u001b[39m\u001b[38;5;250m \u001b[39m\u001b[38;5;28;01mfor\u001b[39;00m\u001b[38;5;250m \u001b[39mvtype\u001b[38;5;250m \u001b[39m\u001b[38;5;129;01min\u001b[39;00m\u001b[38;5;250m \u001b[39mvalid_types])\u001b[38;5;132;01m}\u001b[39;00m\u001b[38;5;124m\"\u001b[39m\n\u001b[1;32m    199\u001b[0m     )\n",
      "\u001b[0;31mTypeError\u001b[0m: Invalid value for attr 'projection': RotatedLatLon(stand_lon=0.0, moad_cen_lat=0.0, truelat1=0.0, truelat2=0.0, pole_lat=0.0, pole_lon=0.0). For serialization to netCDF files, its value must be of one of the following types: str, Number, ndarray, number, list, tuple"
     ]
    }
   ],
   "source": [
    "outfile = outdir+\"qv_interp.nc\"\n",
    "qv_interp.to_netcdf(outfile, mode='w', format='NETCDF4')\n"
   ]
  }
 ],
 "metadata": {
  "kernelspec": {
   "display_name": "plotting",
   "language": "python",
   "name": "python3"
  },
  "language_info": {
   "codemirror_mode": {
    "name": "ipython",
    "version": 3
   },
   "file_extension": ".py",
   "mimetype": "text/x-python",
   "name": "python",
   "nbconvert_exporter": "python",
   "pygments_lexer": "ipython3",
   "version": "3.11.9"
  }
 },
 "nbformat": 4,
 "nbformat_minor": 2
}
