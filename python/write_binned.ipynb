{
 "cells": [
  {
   "cell_type": "code",
   "execution_count": 11,
   "metadata": {},
   "outputs": [],
   "source": [
    "# Script to write out binned data based on a 2D index variable from WRF output.\n",
    "# \n",
    "# Assumes output is in a single netcdf file on pressure levels.\n",
    "# \n",
    "# James Ruppert  \n",
    "# jruppert@ou.edu  \n",
    "# 2/8/25\n",
    "\n",
    "import numpy as np\n",
    "from thermo_functions import *\n",
    "from post_proc_functions import *\n",
    "# from mpi4py import MPI\n",
    "from write_binned_functions import *\n",
    "import pickle\n",
    "from read_wrf_piccolo import *"
   ]
  },
  {
   "cell_type": "code",
   "execution_count": 12,
   "metadata": {},
   "outputs": [],
   "source": [
    "########################################################\n",
    "# Main settings\n",
    "########################################################\n",
    "\n",
    "# Which variable to use as index for binning\n",
    "# binvar_tag = 'pw'\n",
    "binvar_tag = 'sf'\n",
    "\n",
    "# Skips processing of variable if set to True and file is found\n",
    "dont_overwrite=True\n",
    "dont_overwrite=False\n",
    "\n",
    "# Time bounds of processed 3D variables\n",
    "t0_3d = np.datetime64('2024-09-02T00:00:00')\n",
    "t1_3d = np.datetime64('2024-09-03T00:00:00')\n",
    "# t1_3d = np.datetime64('2024-09-02T02:00:00')\n",
    "\n",
    "case = \"sept1-4\"\n",
    "test_process = \"ctl\"\n",
    "# test_process = \"ncrf12h\"\n",
    "\n",
    "########################################################\n",
    "# Directories and test selection\n",
    "########################################################\n",
    "\n",
    "wrf_dom = \"wrf_fine\"\n",
    "nmem = 5 # number of ensemble members\n",
    "\n",
    "# Scratch\n",
    "# datdir = \"/glade/derecho/scratch/ruppert/piccolo/\"\n",
    "# Campaign storage\n",
    "datdir = \"/glade/campaign/univ/uokl0053/\"\n",
    "# OSCER\n",
    "# datdir = \"/ourdisk/hpc/radclouds/auto_archive_notyet/tape_2copies/piccolo/\"\n",
    "\n",
    "# Ens-member string tags (e.g., memb_01, memb_02, etc.)\n",
    "memb0=1 # Starting member to read\n",
    "memb_nums_str=np.arange(memb0,nmem+memb0,1).astype(str)\n",
    "nustr = np.char.zfill(memb_nums_str, 2)\n",
    "memb_all=np.char.add('memb_',nustr)\n",
    "\n",
    "# Get date tag for post_proc output files\n",
    "def get_datetag(datetime):\n",
    "    string = np.datetime_as_string(datetime, unit='m').replace(\"-\",\"\").replace(\" \",\"\").replace(\":\",\"\")\n",
    "    return string\n",
    "t0_str = get_datetag(t0_3d)\n",
    "t1_str = get_datetag(t1_3d)\n",
    "tag_postproc = '_'+t0_str+'-'+t1_str\n",
    "t1_3d = np.datetime64('2024-09-02T02:00:00')\n",
    "########################################################\n",
    "# Main functions\n",
    "########################################################"
   ]
  },
  {
   "cell_type": "code",
   "execution_count": 13,
   "metadata": {},
   "outputs": [],
   "source": [
    "# def run_binning(bins, pclass_name, binvar, invar, pclass, rain, lwacre):\n",
    "def run_binning(bins, pclass_name, binvar, pclass, rain, lwacre):\n",
    "\n",
    "    nbins = bins.size\n",
    "    # nz = invar.dims[1]\n",
    "    npclass = len(pclass_name)\n",
    "\n",
    "    # Transform the variables from (x,y) --> (bin)\n",
    "\n",
    "    # 2D variables\n",
    "    freq_binned = np.ndarray((nbins-1), dtype=np.int64)\n",
    "    rain_binned = np.full((nbins-1), np.nan)\n",
    "    lwacre_binned = np.full((nbins-1), np.nan)\n",
    "    pclass_freq = np.full((nbins-1,npclass), np.nan)\n",
    "\n",
    "    # 3D variable\n",
    "    # invar_binned = np.full((nz,nbins-1), np.nan)\n",
    "\n",
    "    nmin = 3 # minimum points to average\n",
    "\n",
    "    for ibin in range(nbins-1):\n",
    "        indices = ((binvar >= bins[ibin]) & (binvar < bins[ibin+1])).nonzero()\n",
    "        binfreq = indices[0].size\n",
    "        freq_binned[ibin] = np.array(binfreq, dtype=np.int64)\n",
    "        # Take mean across ID'd cells\n",
    "        if binfreq > nmin:\n",
    "            rain_binned[ibin] = np.mean(rain[indices[0],indices[1]])\n",
    "            lwacre_binned[ibin] = np.mean(lwacre[indices[0],indices[1]])\n",
    "            # for iz in range(nz):\n",
    "            #     invar_binned[iz,ibin] = np.mean(invar[iz,indices[0],indices[1]])\n",
    "        # Get p-class frequency\n",
    "        for ipclass in range(npclass):\n",
    "            indices_pclass = ((binvar >= bins[ibin]) & (binvar < bins[ibin+1]) & \n",
    "                (pclass == ipclass)).nonzero()\n",
    "            pclass_freq[ibin, ipclass] = indices_pclass[0].shape[0]\n",
    "\n",
    "    # return bins, freq_binned, invar_binned, pclass_freq, rain_binned, lwacre_binned\n",
    "    return bins, freq_binned, pclass_freq, rain_binned, lwacre_binned\n",
    "    # return"
   ]
  },
  {
   "cell_type": "code",
   "execution_count": 14,
   "metadata": {},
   "outputs": [],
   "source": [
    "################################\n",
    "\n",
    "def driver_loop_write_ncdf(binvar_tag, memb_dir, datdir, tag_postproc, t0, t1):\n",
    "\n",
    "    # Get variable metadata and PCLASS names\n",
    "    proc_var_list, pclass_name = get_variable_list()\n",
    "\n",
    "    bins = binvar_set_bins(binvar_tag)\n",
    "\n",
    "    # Read independent variables\n",
    "    binvar, pclass, rain, lwacre = read_vars_stage1(binvar_tag, datdir, t0=t0, t1=t1)\n",
    "\n",
    "    for ivar in range(len(proc_var_list)):\n",
    "\n",
    "        # Check if variable was already done\n",
    "        pickle_file = datdir+'binned_'+binvar_tag+'/'+proc_var_list[ivar]+'_'+tag_postproc+'.pkl'\n",
    "        if dont_overwrite:\n",
    "            if os.path.isfile(pickle_file):\n",
    "                print(\"Skipping \"+proc_var_list[ivar]+\" for \"+memb_dir)\n",
    "                continue\n",
    "\n",
    "        # Read variable to process\n",
    "        # invar = read_var(datdir, proc_var_list[ivar], tag_extra=tag_postproc)#, t0, t1)\n",
    "        # pres = invar.interp_level.values\n",
    "\n",
    "        print()\n",
    "        print(\"Running variable: \",proc_var_list[ivar],\" for \"+memb_dir)\n",
    "\n",
    "        # bins, freq_binned, invar_binned, pclass_freq, rain_binned, lwacre_binned = \\\n",
    "        bins, freq_binned, pclass_freq, rain_binned, lwacre_binned = \\\n",
    "            run_binning(bins, pclass_name, binvar.to_masked_array(), pclass.to_masked_array(), rain.to_masked_array(), lwacre.to_masked_array())\n",
    "\n",
    "        # Write out pickle file\n",
    "        with open(pickle_file, 'wb') as file:\n",
    "            pickle.dump({'bins':bins,\n",
    "                        #  'pres':pres,\n",
    "                         'freq_binned':freq_binned,\n",
    "                         'pclass_freq':pclass_freq,\n",
    "                        #  'invar_binned':invar_binned,\n",
    "                         'rain_binned':rain_binned,\n",
    "                         'lwacre_binned':lwacre_binned},\n",
    "                         file)\n",
    "\n",
    "    return"
   ]
  },
  {
   "cell_type": "code",
   "execution_count": 15,
   "metadata": {},
   "outputs": [
    {
     "name": "stderr",
     "output_type": "stream",
     "text": [
      "/glade/work/ruppert/conda-envs/plotting/lib/python3.11/site-packages/xarray/conventions.py:284: SerializationWarning: variable 'pw_sat' has multiple fill values {1e+20, 1e+20} defined, decoding all values to NaN.\n",
      "  var = coder.decode(var, name=name)\n"
     ]
    },
    {
     "name": "stdout",
     "output_type": "stream",
     "text": [
      "\n",
      "Running variable:  tmpk  for memb_01\n",
      "\n",
      "Running variable:  qvapor  for memb_01\n",
      "\n",
      "Running variable:  rho  for memb_01\n"
     ]
    },
    {
     "ename": "KeyboardInterrupt",
     "evalue": "",
     "output_type": "error",
     "traceback": [
      "\u001b[0;31m---------------------------------------------------------------------------\u001b[0m",
      "\u001b[0;31mKeyboardInterrupt\u001b[0m                         Traceback (most recent call last)",
      "Cell \u001b[0;32mIn[15], line 16\u001b[0m\n\u001b[1;32m     11\u001b[0m \u001b[38;5;66;03m# if comm.rank == 0:\u001b[39;00m\n\u001b[1;32m     12\u001b[0m \n\u001b[1;32m     13\u001b[0m \u001b[38;5;66;03m# Get dimensions and files\u001b[39;00m\n\u001b[1;32m     14\u001b[0m outdir, postproc_files, nt, nx, ny \u001b[38;5;241m=\u001b[39m get_postproc_dims(datdir, case, test_process, wrf_dom, memb_dir)\n\u001b[0;32m---> 16\u001b[0m \u001b[43mdriver_loop_write_ncdf\u001b[49m\u001b[43m(\u001b[49m\u001b[43mbinvar_tag\u001b[49m\u001b[43m,\u001b[49m\u001b[43m \u001b[49m\u001b[43mmemb_dir\u001b[49m\u001b[43m,\u001b[49m\u001b[43m \u001b[49m\u001b[43moutdir\u001b[49m\u001b[43m,\u001b[49m\u001b[43m \u001b[49m\u001b[43mtag_postproc\u001b[49m\u001b[43m,\u001b[49m\u001b[43m \u001b[49m\u001b[43mt0_3d\u001b[49m\u001b[43m,\u001b[49m\u001b[43m \u001b[49m\u001b[43mt1_3d\u001b[49m\u001b[43m)\u001b[49m\n\u001b[1;32m     18\u001b[0m \u001b[38;5;28mprint\u001b[39m(\u001b[38;5;124m\"\u001b[39m\u001b[38;5;124mFinished processing \u001b[39m\u001b[38;5;124m\"\u001b[39m\u001b[38;5;241m+\u001b[39mmemb_dir)\n",
      "Cell \u001b[0;32mIn[14], line 31\u001b[0m, in \u001b[0;36mdriver_loop_write_ncdf\u001b[0;34m(binvar_tag, memb_dir, datdir, tag_postproc, t0, t1)\u001b[0m\n\u001b[1;32m     27\u001b[0m \u001b[38;5;28mprint\u001b[39m(\u001b[38;5;124m\"\u001b[39m\u001b[38;5;124mRunning variable: \u001b[39m\u001b[38;5;124m\"\u001b[39m,proc_var_list[ivar],\u001b[38;5;124m\"\u001b[39m\u001b[38;5;124m for \u001b[39m\u001b[38;5;124m\"\u001b[39m\u001b[38;5;241m+\u001b[39mmemb_dir)\n\u001b[1;32m     29\u001b[0m \u001b[38;5;66;03m# bins, freq_binned, invar_binned, pclass_freq, rain_binned, lwacre_binned = \\\u001b[39;00m\n\u001b[1;32m     30\u001b[0m bins, freq_binned, pclass_freq, rain_binned, lwacre_binned \u001b[38;5;241m=\u001b[39m \\\n\u001b[0;32m---> 31\u001b[0m     \u001b[43mrun_binning\u001b[49m\u001b[43m(\u001b[49m\u001b[43mbins\u001b[49m\u001b[43m,\u001b[49m\u001b[43m \u001b[49m\u001b[43mpclass_name\u001b[49m\u001b[43m,\u001b[49m\u001b[43m \u001b[49m\u001b[43mbinvar\u001b[49m\u001b[38;5;241;43m.\u001b[39;49m\u001b[43mto_masked_array\u001b[49m\u001b[43m(\u001b[49m\u001b[43m)\u001b[49m\u001b[43m,\u001b[49m\u001b[43m \u001b[49m\u001b[43mpclass\u001b[49m\u001b[38;5;241;43m.\u001b[39;49m\u001b[43mto_masked_array\u001b[49m\u001b[43m(\u001b[49m\u001b[43m)\u001b[49m\u001b[43m,\u001b[49m\u001b[43m \u001b[49m\u001b[43mrain\u001b[49m\u001b[38;5;241;43m.\u001b[39;49m\u001b[43mto_masked_array\u001b[49m\u001b[43m(\u001b[49m\u001b[43m)\u001b[49m\u001b[43m,\u001b[49m\u001b[43m \u001b[49m\u001b[43mlwacre\u001b[49m\u001b[38;5;241;43m.\u001b[39;49m\u001b[43mto_masked_array\u001b[49m\u001b[43m(\u001b[49m\u001b[43m)\u001b[49m\u001b[43m)\u001b[49m\n\u001b[1;32m     33\u001b[0m \u001b[38;5;66;03m# Write out pickle file\u001b[39;00m\n\u001b[1;32m     34\u001b[0m \u001b[38;5;28;01mwith\u001b[39;00m \u001b[38;5;28mopen\u001b[39m(pickle_file, \u001b[38;5;124m'\u001b[39m\u001b[38;5;124mwb\u001b[39m\u001b[38;5;124m'\u001b[39m) \u001b[38;5;28;01mas\u001b[39;00m file:\n",
      "Cell \u001b[0;32mIn[13], line 27\u001b[0m, in \u001b[0;36mrun_binning\u001b[0;34m(bins, pclass_name, binvar, pclass, rain, lwacre)\u001b[0m\n\u001b[1;32m     25\u001b[0m \u001b[38;5;66;03m# Take mean across ID'd cells\u001b[39;00m\n\u001b[1;32m     26\u001b[0m \u001b[38;5;28;01mif\u001b[39;00m binfreq \u001b[38;5;241m>\u001b[39m nmin:\n\u001b[0;32m---> 27\u001b[0m     rain_binned[ibin] \u001b[38;5;241m=\u001b[39m np\u001b[38;5;241m.\u001b[39mmean(\u001b[43mrain\u001b[49m\u001b[43m[\u001b[49m\u001b[43mindices\u001b[49m\u001b[43m[\u001b[49m\u001b[38;5;241;43m0\u001b[39;49m\u001b[43m]\u001b[49m\u001b[43m,\u001b[49m\u001b[43mindices\u001b[49m\u001b[43m[\u001b[49m\u001b[38;5;241;43m1\u001b[39;49m\u001b[43m]\u001b[49m\u001b[43m]\u001b[49m)\n\u001b[1;32m     28\u001b[0m     lwacre_binned[ibin] \u001b[38;5;241m=\u001b[39m np\u001b[38;5;241m.\u001b[39mmean(lwacre[indices[\u001b[38;5;241m0\u001b[39m],indices[\u001b[38;5;241m1\u001b[39m]])\n\u001b[1;32m     29\u001b[0m     \u001b[38;5;66;03m# for iz in range(nz):\u001b[39;00m\n\u001b[1;32m     30\u001b[0m     \u001b[38;5;66;03m#     invar_binned[iz,ibin] = np.mean(invar[iz,indices[0],indices[1]])\u001b[39;00m\n\u001b[1;32m     31\u001b[0m \u001b[38;5;66;03m# Get p-class frequency\u001b[39;00m\n",
      "File \u001b[0;32m/glade/work/ruppert/conda-envs/plotting/lib/python3.11/site-packages/numpy/ma/core.py:3261\u001b[0m, in \u001b[0;36mMaskedArray.__getitem__\u001b[0;34m(self, indx)\u001b[0m\n\u001b[1;32m   3257\u001b[0m \u001b[38;5;28;01mif\u001b[39;00m _mask \u001b[38;5;129;01mis\u001b[39;00m \u001b[38;5;129;01mnot\u001b[39;00m nomask:\n\u001b[1;32m   3258\u001b[0m     \u001b[38;5;66;03m# _mask cannot be a subclass, so it tells us whether we should\u001b[39;00m\n\u001b[1;32m   3259\u001b[0m     \u001b[38;5;66;03m# expect a scalar. It also cannot be of dtype object.\u001b[39;00m\n\u001b[1;32m   3260\u001b[0m     mout \u001b[38;5;241m=\u001b[39m _mask[indx]\n\u001b[0;32m-> 3261\u001b[0m     scalar_expected \u001b[38;5;241m=\u001b[39m \u001b[43m_is_scalar\u001b[49m\u001b[43m(\u001b[49m\u001b[43mmout\u001b[49m\u001b[43m)\u001b[49m\n\u001b[1;32m   3263\u001b[0m \u001b[38;5;28;01melse\u001b[39;00m:\n\u001b[1;32m   3264\u001b[0m     \u001b[38;5;66;03m# attempt to apply the heuristic to avoid constructing a full mask\u001b[39;00m\n\u001b[1;32m   3265\u001b[0m     mout \u001b[38;5;241m=\u001b[39m nomask\n",
      "File \u001b[0;32m/glade/work/ruppert/conda-envs/plotting/lib/python3.11/site-packages/numpy/ma/core.py:3231\u001b[0m, in \u001b[0;36mMaskedArray.__getitem__.<locals>._is_scalar\u001b[0;34m(m)\u001b[0m\n\u001b[1;32m   3228\u001b[0m dout \u001b[38;5;241m=\u001b[39m \u001b[38;5;28mself\u001b[39m\u001b[38;5;241m.\u001b[39mdata[indx]\n\u001b[1;32m   3229\u001b[0m _mask \u001b[38;5;241m=\u001b[39m \u001b[38;5;28mself\u001b[39m\u001b[38;5;241m.\u001b[39m_mask\n\u001b[0;32m-> 3231\u001b[0m \u001b[38;5;28;01mdef\u001b[39;00m \u001b[38;5;21m_is_scalar\u001b[39m(m):\n\u001b[1;32m   3232\u001b[0m     \u001b[38;5;28;01mreturn\u001b[39;00m \u001b[38;5;129;01mnot\u001b[39;00m \u001b[38;5;28misinstance\u001b[39m(m, np\u001b[38;5;241m.\u001b[39mndarray)\n\u001b[1;32m   3234\u001b[0m \u001b[38;5;28;01mdef\u001b[39;00m \u001b[38;5;21m_scalar_heuristic\u001b[39m(arr, elem):\n",
      "\u001b[0;31mKeyboardInterrupt\u001b[0m: "
     ]
    }
   ],
   "source": [
    "########################################################\n",
    "# Top-level loop\n",
    "########################################################\n",
    "\n",
    "# Loop over ensemble members\n",
    "\n",
    "# for memb_dir in memb_all:\n",
    "\n",
    "memb_dir = memb_all[0]\n",
    "\n",
    "# if comm.rank == 0:\n",
    "\n",
    "# Get dimensions and files\n",
    "outdir, postproc_files, nt, nx, ny = get_postproc_dims(datdir, case, test_process, wrf_dom, memb_dir)\n",
    "\n",
    "driver_loop_write_ncdf(binvar_tag, memb_dir, outdir, tag_postproc, t0_3d, t1_3d)\n",
    "\n",
    "print(\"Finished processing \"+memb_dir)"
   ]
  },
  {
   "cell_type": "code",
   "execution_count": 18,
   "metadata": {},
   "outputs": [
    {
     "name": "stderr",
     "output_type": "stream",
     "text": [
      "/glade/work/ruppert/conda-envs/plotting/lib/python3.11/site-packages/xarray/conventions.py:284: SerializationWarning: variable 'pw_sat' has multiple fill values {1e+20, 1e+20} defined, decoding all values to NaN.\n",
      "  var = coder.decode(var, name=name)\n"
     ]
    }
   ],
   "source": [
    "binvar, pclass, rain, lwacre = read_vars_stage1(binvar_tag, outdir, t0=t0_3d, t1=t1_3d)"
   ]
  },
  {
   "cell_type": "code",
   "execution_count": 23,
   "metadata": {},
   "outputs": [
    {
     "data": {
      "text/plain": [
       "(array([0, 0, 0, ..., 6, 6, 6]),\n",
       " array([   0,    0,    0, ..., 1339, 1339, 1339]),\n",
       " array([   0,    1,    2, ..., 1337, 1338, 1339]))"
      ]
     },
     "execution_count": 23,
     "metadata": {},
     "output_type": "execute_result"
    }
   ],
   "source": [
    "# binvar.to_masked_array()\n",
    "binvar.to_masked_array().nonzero()"
   ]
  }
 ],
 "metadata": {
  "kernelspec": {
   "display_name": "plotting",
   "language": "python",
   "name": "python3"
  },
  "language_info": {
   "codemirror_mode": {
    "name": "ipython",
    "version": 3
   },
   "file_extension": ".py",
   "mimetype": "text/x-python",
   "name": "python",
   "nbconvert_exporter": "python",
   "pygments_lexer": "ipython3",
   "version": "3.11.10"
  }
 },
 "nbformat": 4,
 "nbformat_minor": 2
}
