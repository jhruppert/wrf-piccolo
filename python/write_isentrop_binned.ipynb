{
 "cells": [
  {
   "cell_type": "code",
   "execution_count": 12,
   "metadata": {},
   "outputs": [],
   "source": [
    "# Script to write out isentropic-binned data from WRF output.\n",
    "# \n",
    "# Assumes output is in a single netcdf file on pressure levels.\n",
    "# \n",
    "# James Ruppert  \n",
    "# jruppert@ou.edu  \n",
    "# 1/28/25\n",
    "\n",
    "import numpy as np\n",
    "import xarray as xr\n",
    "from thermo_functions import *\n",
    "from post_proc_functions import *\n",
    "from mpi4py import MPI\n",
    "from write_isentrop_functions import *\n",
    "\n",
    "# MPI\n",
    "comm = MPI.COMM_WORLD\n",
    "rank = comm.Get_rank()"
   ]
  },
  {
   "cell_type": "code",
   "execution_count": null,
   "metadata": {},
   "outputs": [],
   "source": []
  },
  {
   "cell_type": "code",
   "execution_count": null,
   "metadata": {},
   "outputs": [],
   "source": []
  },
  {
   "cell_type": "code",
   "execution_count": null,
   "metadata": {},
   "outputs": [],
   "source": []
  }
 ],
 "metadata": {
  "kernelspec": {
   "display_name": "plotting",
   "language": "python",
   "name": "python3"
  },
  "language_info": {
   "codemirror_mode": {
    "name": "ipython",
    "version": 3
   },
   "file_extension": ".py",
   "mimetype": "text/x-python",
   "name": "python",
   "nbconvert_exporter": "python",
   "pygments_lexer": "ipython3",
   "version": "3.11.10"
  }
 },
 "nbformat": 4,
 "nbformat_minor": 2
}
