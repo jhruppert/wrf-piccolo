{
 "cells": [
  {
   "cell_type": "markdown",
   "metadata": {},
   "source": [
    "#### Jupyter notebook to create snapshot maps from WRF output.\n",
    "\n",
    "James Ruppert  \n",
    "jruppert@ou.edu  \n",
    "11/16/23"
   ]
  },
  {
   "cell_type": "markdown",
   "metadata": {},
   "source": [
    "#### Main Settings"
   ]
  },
  {
   "cell_type": "code",
   "execution_count": 1,
   "metadata": {},
   "outputs": [],
   "source": [
    "from netCDF4 import Dataset\n",
    "import numpy as np\n",
    "from matplotlib import ticker, colors, rc#, cm\n",
    "import matplotlib.pyplot as plt\n",
    "from wrf import getvar#, get_cartopy\n",
    "# import cartopy.crs as crs\n",
    "# import cartopy.feature as cfeature\n",
    "# from metpy.plots import ctables\n",
    "from read_wrf_piccolo import *\n",
    "import xarray as xr\n",
    "# import matplotlib.animation as animation\n",
    "import os"
   ]
  },
  {
   "cell_type": "code",
   "execution_count": 2,
   "metadata": {},
   "outputs": [],
   "source": [
    "#### Directories and model output specs\n",
    "scdir = \"/glade/derecho/scratch/ruppert/piccolo/\"\n",
    "figdir = \"/glade/work/ruppert/wrf-piccolo/python/figures/\"\n",
    "\n",
    "case = \"sept1-4/\"\n",
    "memb_tag = \"memb_01\"\n",
    "test_name = \"ctl/\"\n",
    "wrf_domain=\"wrf_fine/\"\n",
    "\n",
    "wrfdir = scdir+case+memb_tag+'/'+test_name\n",
    "wrffiles = get_wrf_file_list(wrfdir, wrf_domain+\"wrfout\")\n",
    "lat, lon, nx1, nx2, nz, npd = wrf_dims(wrffiles[0])\n",
    "nfiles = len(wrffiles)"
   ]
  },
  {
   "cell_type": "markdown",
   "metadata": {},
   "source": [
    "---\n",
    "### Plotting routines"
   ]
  },
  {
   "cell_type": "code",
   "execution_count": 3,
   "metadata": {},
   "outputs": [],
   "source": [
    "font = {'family' : 'sans-serif',\n",
    "        'weight' : 'normal',\n",
    "        'size'   : 15}\n",
    "\n",
    "rc('font', **font)"
   ]
  },
  {
   "cell_type": "markdown",
   "metadata": {},
   "source": [
    "##### Plot functions"
   ]
  },
  {
   "cell_type": "code",
   "execution_count": 4,
   "metadata": {},
   "outputs": [],
   "source": [
    "# Variable settings\n",
    "\n",
    "def figure_var_specs(plot_name):\n",
    "\n",
    "    # Switches (default settings)\n",
    "    i2d=True      # switch on if the data read-in needs to be done in 2D\n",
    "    dosym=True    # switch off to specify min colorbar setting\n",
    "    dolog=False   # switch for logarithmic color scale\n",
    "    extend='both' # extend color fill beyond bounds\n",
    "    scale=1.      # scale variable by x\n",
    "    vartag=plot_name\n",
    "\n",
    "    if plot_name == 'OLR':\n",
    "        # OLR\n",
    "        unittag='W m$^{-2}$'\n",
    "        cmin=75\n",
    "        cmax=320\n",
    "        dosym=False\n",
    "        cmap='RdGy'\n",
    "    elif plot_name == 'U10':\n",
    "        # OLR\n",
    "        unittag='m/s'\n",
    "        cmin=-10\n",
    "        cmax=10\n",
    "        dosym=True\n",
    "        cmap='RdBu_r'\n",
    "    elif plot_name == 'MRef':\n",
    "        # Composite reflectivity (column-max value)\n",
    "        vartag='mdbz'\n",
    "        unittag='dBZ'\n",
    "        cmin=-25\n",
    "        cmax=60\n",
    "        dosym=False\n",
    "        extend='neither'\n",
    "        # cmap = ctables.registry.get_colortable('NWSReflectivity')#'NWSReflectivityExpanded'\n",
    "        cmap='Spectral_r'\n",
    "    elif plot_name == 'refl_10cm':\n",
    "        # Composite reflectivity (column-max value)\n",
    "        vartag='REFL_10CM'\n",
    "        unittag='dBZ'\n",
    "        cmin=-25\n",
    "        cmax=60\n",
    "        dosym=False\n",
    "        extend='neither'\n",
    "        # cmap = ctables.registry.get_colortable('NWSReflectivity')#'NWSReflectivityExpanded'\n",
    "        cmap='Spectral_r'\n",
    "\n",
    "    return vartag, unittag, cmin, cmax, extend, cmap, i2d, dosym, dolog, scale"
   ]
  },
  {
   "cell_type": "code",
   "execution_count": 5,
   "metadata": {},
   "outputs": [],
   "source": [
    "# wind barbs\n",
    "def plot_wind(ax, u, v, lon, lat, skip, length=None):#, transform\n",
    "    spacing=skip #barbspacing (smaller if zoomed in)\n",
    "    mps_to_kts=1.94384 # conversion factor from m/s to knots for barbs\n",
    "    uplt = u * mps_to_kts\n",
    "    vplt = v * mps_to_kts\n",
    "    # ax.barbs(lon[::spacing,::spacing], lat[::spacing,::spacing], \n",
    "    #          uplt[::spacing,::spacing], vplt[::spacing,::spacing], \n",
    "    ax.barbs(lon[::spacing], lat[::spacing], \n",
    "             uplt[::spacing,::spacing], vplt[::spacing,::spacing], \n",
    "             zorder=2, color='black', length=length,\n",
    "             linewidth=0.8)\n",
    "            #  transform=crs.PlateCarree(), linewidth=1.5)"
   ]
  },
  {
   "cell_type": "code",
   "execution_count": 6,
   "metadata": {},
   "outputs": [],
   "source": [
    "def read_pltvar(wrffile, it_read, plot_name, vartag):\n",
    "    wrffil_read = Dataset(wrffile.strip())\n",
    "    # time = getvar(wrffil_read, 'Times')\n",
    "    time = wrffil_read.variables['Times']\n",
    "    time = [''.join(row.astype(str)) for row in time]\n",
    "    time = time[it_read]\n",
    "    u10 = getvar(wrffil_read, \"U10\", timeidx=it_read) # m/s\n",
    "    v10 = getvar(wrffil_read, \"V10\", timeidx=it_read) # m/s\n",
    "    if plot_name == \"refl_10cm\":\n",
    "        pltvar = wrffil_read.variables[vartag][it_read,0,:,:]\n",
    "        pltvar = xr.DataArray(pltvar, coords=u10.coords, attrs=u10.attrs)\n",
    "    else:\n",
    "        pltvar = getvar(wrffil_read, vartag, timeidx=it_read)\n",
    "    wrffil_read.close()\n",
    "    return pltvar, u10, v10, time"
   ]
  },
  {
   "cell_type": "code",
   "execution_count": 7,
   "metadata": {},
   "outputs": [],
   "source": [
    "    # Add map features\n",
    "    # states = cfeature.NaturalEarthFeature(category=\"cultural\", scale=\"10m\",\n",
    "    #                          facecolor=\"none\",\n",
    "    #                          name=\"admin_1_states_provinces_lines\")\n",
    "    # countries = cfeature.NaturalEarthFeature(category=\"cultural\", scale=\"10m\",\n",
    "    #                          facecolor=\"none\",\n",
    "    #                          name=\"admin_0_countries_lakes\")\n",
    "    # featurewidth=0.5\n",
    "    # featurecol=\"black\"\n",
    "    # ax.add_feature(states, linewidth=featurewidth, edgecolor=featurecol, zorder=1)\n",
    "    # ax.add_feature(countries, linewidth=featurewidth, edgecolor=featurecol, zorder=1)"
   ]
  },
  {
   "cell_type": "code",
   "execution_count": 8,
   "metadata": {},
   "outputs": [],
   "source": [
    "def run_plot(plot_name, wrffile, it_read, plt_area=[lon[0], lon[-1], lat[0], lat[-1]]):\n",
    "\n",
    "    vartag, unittag, cmin, cmax, extend, cmap, i2d, dosym, dolog, scale = figure_var_specs(plot_name)\n",
    "    pltvar, u10, v10, time = read_pltvar(wrffile, it_read, plot_name, vartag)\n",
    "\n",
    "    hr_tag = str(time)[0:10]+', '+str(time)[11:16]+' UTC'\n",
    "    title_extra=''\n",
    "    # if i2d:\n",
    "    title = plot_name+title_extra+', '+hr_tag\n",
    "    # else:\n",
    "    #     title = plot_name+title_extra+', '+hr_tag+',  k-level='+str(ikread)+' (p = '+str(int(pres[ikread]))+' hPa)'\n",
    "\n",
    "    # Color scale\n",
    "    nlevs=31#71\n",
    "    if dosym:\n",
    "        delta=2*cmax/nlevs\n",
    "        clevs = np.arange(-1*cmax,cmax+delta,delta)\n",
    "    else:\n",
    "        delta=(cmax-cmin)/nlevs\n",
    "        clevs = np.arange(cmin,cmax+delta,delta)\n",
    "\n",
    "    # create figure\n",
    "    fig = plt.figure(figsize=(12,10))\n",
    "    # proj = get_cartopy(pltvar)\n",
    "    ax = fig.add_subplot(111)#,projection=proj)\n",
    "\n",
    "    ax.set_title(title, fontsize=20)\n",
    "    ax.set_xlabel('Lon')\n",
    "    ax.set_ylabel('Lat')\n",
    "\n",
    "    # fill contour\n",
    "    if dolog:\n",
    "        im = ax.contourf(lon, lat, pltvar*scale, cmap=cmap, alpha=0.9,\n",
    "                            extend='both', zorder=0, norm=colors.LogNorm(vmin=cmin, vmax=cmax))\n",
    "                            # transform=crs.PlateCarree())\n",
    "        ticks=ticker.LogLocator()\n",
    "    else:\n",
    "        im = ax.contourf(lon, lat, pltvar*scale, clevs, cmap=cmap, alpha=0.9,\n",
    "                            extend=extend, zorder=0)#, transform=crs.PlateCarree())\n",
    "        ticks=ticker.AutoLocator()\n",
    "    cbar = plt.colorbar(im, ax=ax, shrink=0.45, ticks=ticks)\n",
    "    cbar.ax.set_ylabel(unittag)\n",
    "\n",
    "    # Set plot area\n",
    "    # plt.set_extent(plt_area)\n",
    "    ax.set_xlim(plt_area[0], plt_area[1])\n",
    "    ax.set_ylim(plt_area[2], plt_area[3])\n",
    "    ax.set_aspect('equal')\n",
    "\n",
    "    # Add wind barbs\n",
    "    # if plot_name == \"2mTemp\":\n",
    "    skip = int(u10.shape[0]/30)\n",
    "    plot_wind(ax, u10, v10, lon, lat, skip, length=5)#, crs.PlateCarree()\n",
    "\n",
    "    plt.tight_layout()\n",
    "    # format=\"pdf\"\n",
    "    format=\"png\"\n",
    "    hr_tag_fig = str(time)[0:16]\n",
    "    plt.savefig(figdir+plot_name+\"_\"+memb_tag+\"_\"+hr_tag_fig+\".\"+format, format=format, bbox_inches=\"tight\")\n",
    "    # plt.show()\n",
    "    plt.close('all')"
   ]
  },
  {
   "cell_type": "markdown",
   "metadata": {},
   "source": [
    "#### Create plots"
   ]
  },
  {
   "cell_type": "code",
   "execution_count": 9,
   "metadata": {},
   "outputs": [],
   "source": [
    "# plt_area=[lon[0,0], lon[0,-1], lat[0,0], lat[-1,0]] # W,E,S,N\n",
    "\n",
    "# for ifile in range(0,nfiles):\n",
    "for ifile in range(0,1):\n",
    "    # for it_read in range(0,npd,9):\n",
    "    for it_read in range(0,npd):\n",
    "    # for it_read in range(9,10):\n",
    "        # for var_name in [\"OLR\", \"MRef\", \"900-600Thick\"]:\n",
    "        for var_name in [\"refl_10cm\"]:\n",
    "            run_plot(var_name, wrffiles[ifile], it_read)#, plt_area=plt_area)"
   ]
  },
  {
   "cell_type": "code",
   "execution_count": 10,
   "metadata": {},
   "outputs": [
    {
     "data": {
      "text/plain": [
       "0"
      ]
     },
     "execution_count": 10,
     "metadata": {},
     "output_type": "execute_result"
    }
   ],
   "source": [
    "# Create animation\n",
    "var_name=\"refl_10cm\"\n",
    "anim_file = figdir+var_name+\"_\"+memb_tag+\".gif\"\n",
    "convert_str = \"convert -delay 50 -loop 0 \"+figdir+\"/\"+var_name+\"*.png \"+anim_file\n",
    "os.system(convert_str)"
   ]
  }
 ],
 "metadata": {
  "kernelspec": {
   "display_name": "plotting",
   "language": "python",
   "name": "python3"
  },
  "language_info": {
   "codemirror_mode": {
    "name": "ipython",
    "version": 3
   },
   "file_extension": ".py",
   "mimetype": "text/x-python",
   "name": "python",
   "nbconvert_exporter": "python",
   "pygments_lexer": "ipython3",
   "version": "3.11.10"
  }
 },
 "nbformat": 4,
 "nbformat_minor": 2
}
