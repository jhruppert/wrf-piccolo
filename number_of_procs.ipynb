{
 "cells": [
  {
   "cell_type": "markdown",
   "metadata": {},
   "source": [
    "Python script from KWerner\n",
    "\n",
    "Put into a notebook by James Ruppert\n",
    "\n",
    "https://forum.mmm.ucar.edu/threads/choosing-an-appropriate-number-of-processors.5082/"
   ]
  },
  {
   "cell_type": "code",
   "execution_count": 13,
   "metadata": {},
   "outputs": [],
   "source": [
    "# This script finds the largest number of processors and nodes\n",
    "# you can use, based on the number of grid points in the i/j directions\n",
    "# on your domain. \n",
    "\n",
    "# Note: The largest number may not decompose the best way. If you want\n",
    "# additional values, set some print statements in the code below\n",
    "\n",
    "\n",
    "# enter the namelist values of e_we and e_sn\n",
    "e_we = 1500 #3551\n",
    "e_sn = 1500 #2441\n",
    "e_we = 400\n",
    "e_sn = 400\n",
    "\n",
    "# number of cores you want to use per node (Cheyenne has a max of 36/node)\n",
    "cores = 128\n",
    "\n",
    "# The value for 'cores' gets incremented later, so we want a static variable for the original value \n",
    "cores_orig = cores\n",
    "\n",
    "# set upper limit of nodes - the max you want to loop through\n",
    "node_max = 200 \n",
    "\n",
    "# This is the least number of grid points allowed for each processor. \n",
    "# Dont' change this value.\n",
    "smallest_size = 10"
   ]
  },
  {
   "cell_type": "code",
   "execution_count": 14,
   "metadata": {},
   "outputs": [
    {
     "name": "stdout",
     "output_type": "stream",
     "text": [
      "128\n",
      "200\n",
      "10\n"
     ]
    }
   ],
   "source": [
    "print(cores)\n",
    "print(node_max)\n",
    "print(smallest_size)"
   ]
  },
  {
   "cell_type": "code",
   "execution_count": 15,
   "metadata": {},
   "outputs": [
    {
     "name": "stdout",
     "output_type": "stream",
     "text": [
      "max # of processors that can be used is:  1280.0\n",
      "max # of nodes that can be used is:  10.0\n"
     ]
    }
   ],
   "source": [
    "x = 1\n",
    "while x <= node_max:\n",
    "       \n",
    "# finds the factor pairs for the total number of cores\n",
    "    def f(cores):\n",
    "        factors = []\n",
    "        for i in range(1, int(cores**0.5)+1):\n",
    "            if cores % i == 0:\n",
    "                factors.append((i, cores/i ))\n",
    "        return factors\n",
    "\n",
    "    factors = f(cores)\n",
    "\n",
    "# Of the factor pairs, this finds the closest values (pair) in that array\n",
    "    closest_factors = factors[-1]\n",
    "\n",
    "# Of the set of closest values, assign the i and j values\n",
    "    i_array_value = closest_factors[0]\n",
    "    j_array_value = closest_factors[-1]\n",
    "\n",
    "# Calculate how the domain will be decomposed\n",
    "    e_we_decomp = int(e_we / i_array_value )\n",
    "    e_sn_decomp = int(e_sn / j_array_value )\n",
    "\n",
    "# Once the decomposition becomes smaller than the least number of grid points\n",
    "# allowed for each processor, the loop will quit and display the max \n",
    "# number of processors and nodes you can use for your domain.\n",
    "    if ((e_sn_decomp < smallest_size) or (e_we_decomp < smallest_size)):\n",
    "\n",
    "# test to see if the max number of processors allowed is within the number for a single node \n",
    "        initial_factor_pair = factors[0]\n",
    "        initial_factor = initial_factor_pair[-1]\n",
    "        if initial_factor == cores_orig:\n",
    "\n",
    "# start with value of cores_orig and decrease by 1 for each iteration\n",
    "# until the value is allowed\n",
    "           y = cores_orig\n",
    "           while y >= 1:\n",
    "                processors = y\n",
    "\n",
    "# finds the factor pairs for the total number of processors\n",
    "# still testing processor values for a single node\n",
    "                def f(processors):\n",
    "                    factors = []\n",
    "                    for i in range(1, int(processors**0.5)+1):\n",
    "                        if processors % i == 0:\n",
    "                            factors.append((i, processors/i ))\n",
    "                    return factors\n",
    "\n",
    "                factors = f(processors)\n",
    "\n",
    "# Of the factor pairs, this finds the closest values (pair) in that array\n",
    "# still testing processor values for a single node\n",
    "                closest_factors = factors[-1]\n",
    "\n",
    "# Of the set of closest values, assign the i and j values\n",
    "# still testing processor values for a single node\n",
    "                i_array_value = closest_factors[0]\n",
    "                j_array_value = closest_factors[-1]\n",
    "\n",
    "# Calculate how the domain will be decomposed\n",
    "# still testing processor values for a single node\n",
    "                e_we_decomp = int(e_we / i_array_value )\n",
    "                e_sn_decomp = int(e_sn / j_array_value )\n",
    "\n",
    "# Once the decomposition becomes larger or equal to the least number of grid points\n",
    "# allowed for each processor, the loop will quit and display the max \n",
    "# number of processors and nodes you can use for your domain.\n",
    "                if ((e_sn_decomp >= smallest_size) and (e_we_decomp >= smallest_size)): \n",
    "                    max_procs = (i_array_value * j_array_value)\n",
    "                    print( \"max # of processors that can be used is: \", max_procs)\n",
    "                    print( \"max # of nodes that can be used is 1 \")\n",
    "                    break\n",
    "\n",
    "# if you haven't reached your limit, the loop continues\n",
    "# still testing processor values for a single node   \n",
    "                else:\n",
    "                    y -= 1\n",
    "\n",
    "# if the size of the domain allows multiple nodes\n",
    "        else:\n",
    "            max_procs = (i_array_value * j_array_value) - cores_orig\n",
    "            max_nodes = (max_procs / cores_orig)\n",
    "            print( \"max # of processors that can be used is: \", max_procs)\n",
    "            print( \"max # of nodes that can be used is: \", max_nodes)\n",
    "        break\n",
    "\n",
    "# If you haven't reached your limit, the loop continues    \n",
    "    x += 1\n",
    "    cores = (cores+cores_orig)"
   ]
  },
  {
   "cell_type": "code",
   "execution_count": 16,
   "metadata": {},
   "outputs": [
    {
     "name": "stdout",
     "output_type": "stream",
     "text": [
      "number of x-tiles:  27\n",
      "number of y-tiles:  27\n",
      "Total nCPU:  711\n",
      "Total nSELECT:  6\n"
     ]
    }
   ],
   "source": [
    "# Simple estimate of n-CPU by assuming a target of 15x15 columns per CPU\n",
    "target_x = e_we/15\n",
    "target_y = e_sn/15\n",
    "target_tot = target_x*target_y\n",
    "print(\"number of x-tiles: \",round(target_x))\n",
    "print(\"number of y-tiles: \",round(target_y))\n",
    "print(\"Total nCPU: \",round(target_tot))\n",
    "print(\"Total nSELECT: \",round(target_tot/cores_orig))"
   ]
  }
 ],
 "metadata": {
  "kernelspec": {
   "display_name": "plotting",
   "language": "python",
   "name": "python3"
  },
  "language_info": {
   "codemirror_mode": {
    "name": "ipython",
    "version": 3
   },
   "file_extension": ".py",
   "mimetype": "text/x-python",
   "name": "python",
   "nbconvert_exporter": "python",
   "pygments_lexer": "ipython3",
   "version": "3.11.10"
  }
 },
 "nbformat": 4,
 "nbformat_minor": 2
}
